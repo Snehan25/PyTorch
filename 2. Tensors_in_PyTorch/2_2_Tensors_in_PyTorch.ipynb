{
  "nbformat": 4,
  "nbformat_minor": 0,
  "metadata": {
    "colab": {
      "provenance": [],
      "gpuType": "T4"
    },
    "kernelspec": {
      "name": "python3",
      "display_name": "Python 3"
    },
    "language_info": {
      "name": "python"
    },
    "accelerator": "GPU"
  },
  "cells": [
    {
      "cell_type": "code",
      "execution_count": 1,
      "metadata": {
        "colab": {
          "base_uri": "https://localhost:8080/"
        },
        "id": "M_Kji4_y-jNQ",
        "outputId": "0297e214-f5d7-4260-fa6c-22311fe81d6d"
      },
      "outputs": [
        {
          "output_type": "stream",
          "name": "stdout",
          "text": [
            "2.5.1+cu121\n"
          ]
        }
      ],
      "source": [
        "import torch\n",
        "print(torch.__version__)"
      ]
    },
    {
      "cell_type": "code",
      "source": [
        "# code to check if GPU available or not\n",
        "if torch.cuda.is_available():\n",
        "    print(\"GPU available\")\n",
        "    print(f\"Using GPU: {torch.cuda.get_device_name(0)}\") # will display what gpu we are uing\n",
        "else:\n",
        "    print(\"GPU not available. Using CPU.\")"
      ],
      "metadata": {
        "colab": {
          "base_uri": "https://localhost:8080/"
        },
        "id": "bK0I0zwS_hTF",
        "outputId": "776d6f46-cbbd-4976-9e18-746b95c42ef9"
      },
      "execution_count": 2,
      "outputs": [
        {
          "output_type": "stream",
          "name": "stdout",
          "text": [
            "GPU available\n",
            "Using GPU: Tesla T4\n"
          ]
        }
      ]
    },
    {
      "cell_type": "markdown",
      "source": [
        "## Creating a Tensor\n"
      ],
      "metadata": {
        "id": "C4cO_vyfAGOV"
      }
    },
    {
      "cell_type": "code",
      "source": [
        "# using empty\n",
        "torch.empty(2,3)\n",
        "\n",
        "''' empty function - allocates memory for us\n",
        "ex: let's say we mentioned we want (2,3) so empty function will\n",
        "go create this much(this size) space in memory but does not assign\n",
        "any value to the space, already the value which exists in mem(garbage value)\n",
        " it shows as it is, no new value is assigned '''"
      ],
      "metadata": {
        "colab": {
          "base_uri": "https://localhost:8080/"
        },
        "id": "M3SiSrqHAmVW",
        "outputId": "f115dc8b-ad20-4ac4-ddf8-8dfcddf413c1"
      },
      "execution_count": 3,
      "outputs": [
        {
          "output_type": "execute_result",
          "data": {
            "text/plain": [
              "tensor([[-4.3517e-10,  4.5440e-41, -5.8148e+13],\n",
              "        [ 3.2589e-41, -6.1527e+01,  4.5439e-41]])"
            ]
          },
          "metadata": {},
          "execution_count": 3
        }
      ]
    },
    {
      "cell_type": "code",
      "source": [
        "# check type\n",
        "a = torch.empty(2,3)\n",
        "type(a)"
      ],
      "metadata": {
        "colab": {
          "base_uri": "https://localhost:8080/"
        },
        "id": "Yo_Iev8sAwCF",
        "outputId": "f1baa67c-6ded-475f-bb5c-dbdb79d74369"
      },
      "execution_count": 4,
      "outputs": [
        {
          "output_type": "execute_result",
          "data": {
            "text/plain": [
              "torch.Tensor"
            ]
          },
          "metadata": {},
          "execution_count": 4
        }
      ]
    },
    {
      "cell_type": "code",
      "source": [
        "# using zeros\n",
        "torch.zeros(2,3)\n",
        "\n",
        "''' zero function - creates a tensor for us with our mentioned size\n",
        "and initialises all its values with zeros '''\n",
        "\n",
        "''' let's say we are building a NN and we want to create biases for\n",
        "different neurons and we want that initially biases values are zero\n",
        "so this is a very good way to initialise those biases '''"
      ],
      "metadata": {
        "colab": {
          "base_uri": "https://localhost:8080/"
        },
        "id": "0xluSGPFAwKR",
        "outputId": "86e42353-fe8c-492b-d677-75141f2a8e6e"
      },
      "execution_count": 5,
      "outputs": [
        {
          "output_type": "execute_result",
          "data": {
            "text/plain": [
              "tensor([[0., 0., 0.],\n",
              "        [0., 0., 0.]])"
            ]
          },
          "metadata": {},
          "execution_count": 5
        }
      ]
    },
    {
      "cell_type": "code",
      "source": [
        "# using ones\n",
        "torch.ones(2,3)\n",
        "\n",
        "''' ones function - creates a tensor for us with our mentioned size\n",
        "and initialises all its values with ones '''"
      ],
      "metadata": {
        "colab": {
          "base_uri": "https://localhost:8080/"
        },
        "id": "kVtkin3vAwNi",
        "outputId": "fd83ad60-934c-4e8c-fe49-488ae05f73cb"
      },
      "execution_count": 7,
      "outputs": [
        {
          "output_type": "execute_result",
          "data": {
            "text/plain": [
              "tensor([[1., 1., 1.],\n",
              "        [1., 1., 1.]])"
            ]
          },
          "metadata": {},
          "execution_count": 7
        }
      ]
    },
    {
      "cell_type": "code",
      "source": [
        "# using rand\n",
        "torch.rand(2,3)\n",
        "\n",
        "''' rand function - creates a tensor for us with our mentioned size\n",
        "and initialises all its values with random values b/w 0 and 1 '''\n",
        "\n",
        "''' weight initialisation technique where we start with random values\n",
        "so this is a very good way to create that particular matrix '''"
      ],
      "metadata": {
        "colab": {
          "base_uri": "https://localhost:8080/"
        },
        "id": "HGwhkU7hAwQF",
        "outputId": "0de8d4e3-06e7-48d4-c35e-043e31030e20"
      },
      "execution_count": 8,
      "outputs": [
        {
          "output_type": "execute_result",
          "data": {
            "text/plain": [
              "tensor([[0.5870, 0.1248, 0.9186],\n",
              "        [0.6836, 0.8308, 0.0472]])"
            ]
          },
          "metadata": {},
          "execution_count": 8
        }
      ]
    },
    {
      "cell_type": "code",
      "source": [
        "# use of seed\n",
        "torch.rand(2,3)\n",
        "# if we run rand again then the values of the tensor will change\n",
        "# if we want our value to not change everytime we rerun the rand func\n",
        "# we can define seed."
      ],
      "metadata": {
        "colab": {
          "base_uri": "https://localhost:8080/"
        },
        "id": "MvAPHvMQAwS7",
        "outputId": "9f2febcc-def7-4c6b-a71f-9ea82e099ea6"
      },
      "execution_count": 9,
      "outputs": [
        {
          "output_type": "execute_result",
          "data": {
            "text/plain": [
              "tensor([[0.9036, 0.0019, 0.9347],\n",
              "        [0.9423, 0.3198, 0.8922]])"
            ]
          },
          "metadata": {},
          "execution_count": 9
        }
      ]
    },
    {
      "cell_type": "code",
      "source": [
        "# manual_seed\n",
        "torch.manual_seed(100)\n",
        "torch.rand(2,3)"
      ],
      "metadata": {
        "colab": {
          "base_uri": "https://localhost:8080/"
        },
        "id": "HTPkHDWFAwVW",
        "outputId": "7464cd6a-539d-4479-a580-35c97e5955bc"
      },
      "execution_count": 10,
      "outputs": [
        {
          "output_type": "execute_result",
          "data": {
            "text/plain": [
              "tensor([[0.1117, 0.8158, 0.2626],\n",
              "        [0.4839, 0.6765, 0.7539]])"
            ]
          },
          "metadata": {},
          "execution_count": 10
        }
      ]
    },
    {
      "cell_type": "code",
      "source": [
        "torch.manual_seed(100)\n",
        "torch.rand(2,3)"
      ],
      "metadata": {
        "colab": {
          "base_uri": "https://localhost:8080/"
        },
        "id": "BUS-DSrqAwX9",
        "outputId": "e1e8b560-0b1f-44c6-9c93-a3be596be9c2"
      },
      "execution_count": 11,
      "outputs": [
        {
          "output_type": "execute_result",
          "data": {
            "text/plain": [
              "tensor([[0.1117, 0.8158, 0.2626],\n",
              "        [0.4839, 0.6765, 0.7539]])"
            ]
          },
          "metadata": {},
          "execution_count": 11
        }
      ]
    },
    {
      "cell_type": "code",
      "source": [
        "# using tensor\n",
        "torch.tensor([[1,2,3],[4,5,6]])\n",
        "\n",
        "''' Using tensor func we can create manual tensors '''"
      ],
      "metadata": {
        "colab": {
          "base_uri": "https://localhost:8080/"
        },
        "id": "MNvOTALcAwaX",
        "outputId": "4f4e63e9-1fb1-4614-af9d-b2bf9ffb5d3a"
      },
      "execution_count": 12,
      "outputs": [
        {
          "output_type": "execute_result",
          "data": {
            "text/plain": [
              "tensor([[1, 2, 3],\n",
              "        [4, 5, 6]])"
            ]
          },
          "metadata": {},
          "execution_count": 12
        }
      ]
    },
    {
      "cell_type": "code",
      "source": [
        "# other ways of creating tensor\n",
        "\n",
        "# arange - we provide range and step/jump\n",
        "print(\"using arange ->\", torch.arange(0,10,2))\n",
        "\n",
        "# using linspace - linearly spaced, ex: (0,10,10) - range is 0 to 10 we want 10 evenly spaced values\n",
        "print(\"using linspace ->\", torch.linspace(0,10,10))\n",
        "\n",
        "# using eye - eye for identity matrix - ex: torch.eye(5) - we want 5x5 identity matrix\n",
        "# identity matrix - diagonal elements are 1 all else 0\n",
        "print(\"using eye ->\", torch.eye(5))\n",
        "\n",
        "# using full - specifies shape ex: (3,3) and what every element must be ex: 5\n",
        "print(\"using full ->\", torch.full((3, 3), 5))"
      ],
      "metadata": {
        "colab": {
          "base_uri": "https://localhost:8080/"
        },
        "id": "D-OXXdJYAwe0",
        "outputId": "c8f1e031-8ab7-463e-a457-c6d92d1c9407"
      },
      "execution_count": 13,
      "outputs": [
        {
          "output_type": "stream",
          "name": "stdout",
          "text": [
            "using arange -> tensor([0, 2, 4, 6, 8])\n",
            "using linspace -> tensor([ 0.0000,  1.1111,  2.2222,  3.3333,  4.4444,  5.5556,  6.6667,  7.7778,\n",
            "         8.8889, 10.0000])\n",
            "using eye -> tensor([[1., 0., 0., 0., 0.],\n",
            "        [0., 1., 0., 0., 0.],\n",
            "        [0., 0., 1., 0., 0.],\n",
            "        [0., 0., 0., 1., 0.],\n",
            "        [0., 0., 0., 0., 1.]])\n",
            "using full -> tensor([[5, 5, 5],\n",
            "        [5, 5, 5],\n",
            "        [5, 5, 5]])\n"
          ]
        }
      ]
    },
    {
      "cell_type": "markdown",
      "source": [
        "## Tensor Shapes"
      ],
      "metadata": {
        "id": "mQwsdp5gAwhW"
      }
    },
    {
      "cell_type": "code",
      "source": [
        "x = torch.tensor([[1,2,3],[4,5,6]])\n",
        "x"
      ],
      "metadata": {
        "colab": {
          "base_uri": "https://localhost:8080/"
        },
        "id": "Q2hytP7-Awjz",
        "outputId": "716dc326-6aef-4153-de05-db013757e736"
      },
      "execution_count": 14,
      "outputs": [
        {
          "output_type": "execute_result",
          "data": {
            "text/plain": [
              "tensor([[1, 2, 3],\n",
              "        [4, 5, 6]])"
            ]
          },
          "metadata": {},
          "execution_count": 14
        }
      ]
    },
    {
      "cell_type": "code",
      "source": [
        "x.shape"
      ],
      "metadata": {
        "colab": {
          "base_uri": "https://localhost:8080/"
        },
        "id": "p6-rZ7zDItfu",
        "outputId": "a72cf2fc-2653-464a-fab0-0d95e02fb67f"
      },
      "execution_count": 15,
      "outputs": [
        {
          "output_type": "execute_result",
          "data": {
            "text/plain": [
              "torch.Size([2, 3])"
            ]
          },
          "metadata": {},
          "execution_count": 15
        }
      ]
    },
    {
      "cell_type": "code",
      "source": [
        "# let's say we have a tensor and we want to build another tensor of that shape\n",
        "# if that's our requirement then we have some methods for it\n",
        "# they are :"
      ],
      "metadata": {
        "id": "ojCsgKtzItjp"
      },
      "execution_count": null,
      "outputs": []
    },
    {
      "cell_type": "code",
      "source": [
        "# using empty func we want to build another tensor of the same shape\n",
        "torch.empty_like(x) # (_) mention which tensor's shape we want to copy"
      ],
      "metadata": {
        "colab": {
          "base_uri": "https://localhost:8080/"
        },
        "id": "zTSzHt6BItm2",
        "outputId": "520fe75b-668a-4473-835b-1f7dc3cca422"
      },
      "execution_count": 16,
      "outputs": [
        {
          "output_type": "execute_result",
          "data": {
            "text/plain": [
              "tensor([[139271844049280, 139271839667136, 139271844912880],\n",
              "        [             97,  99887361943504, 139275856198960]])"
            ]
          },
          "metadata": {},
          "execution_count": 16
        }
      ]
    },
    {
      "cell_type": "code",
      "source": [
        "# similarly we have another method\n",
        "\n",
        "torch.zeros_like(x)"
      ],
      "metadata": {
        "colab": {
          "base_uri": "https://localhost:8080/"
        },
        "id": "lx1L__-mItqU",
        "outputId": "59f411dc-6b4f-4db3-813f-24fa374e3d55"
      },
      "execution_count": 17,
      "outputs": [
        {
          "output_type": "execute_result",
          "data": {
            "text/plain": [
              "tensor([[0, 0, 0],\n",
              "        [0, 0, 0]])"
            ]
          },
          "metadata": {},
          "execution_count": 17
        }
      ]
    },
    {
      "cell_type": "code",
      "source": [
        "torch.ones_like(x)"
      ],
      "metadata": {
        "colab": {
          "base_uri": "https://localhost:8080/"
        },
        "id": "R3HoNqv7IttF",
        "outputId": "3895cd5d-31db-4ecb-9fec-d6c01c5670b4"
      },
      "execution_count": 18,
      "outputs": [
        {
          "output_type": "execute_result",
          "data": {
            "text/plain": [
              "tensor([[1, 1, 1],\n",
              "        [1, 1, 1]])"
            ]
          },
          "metadata": {},
          "execution_count": 18
        }
      ]
    },
    {
      "cell_type": "code",
      "source": [
        "torch.rand_like(x)\n",
        "''' this will not work\n",
        "because we are saying we want a new tensor like 'x' with 'values randomly intialised(rand func)'\n",
        "but our in tensor 'x' all its elements/items are 'integers'\n",
        "whereas rand func will generate 'floats b/w 0 and 1'\n",
        "that is why this code doesn't work\n",
        "therefore here we have to explicitly say that we want to generate float type values '''"
      ],
      "metadata": {
        "colab": {
          "base_uri": "https://localhost:8080/",
          "height": 211
        },
        "id": "6_z9vBtWItwV",
        "outputId": "cb205caf-20fa-4f93-f0f4-88d1e6428a02"
      },
      "execution_count": 20,
      "outputs": [
        {
          "output_type": "error",
          "ename": "RuntimeError",
          "evalue": "\"check_uniform_bounds\" not implemented for 'Long'",
          "traceback": [
            "\u001b[0;31m---------------------------------------------------------------------------\u001b[0m",
            "\u001b[0;31mRuntimeError\u001b[0m                              Traceback (most recent call last)",
            "\u001b[0;32m<ipython-input-20-0cf42f693b46>\u001b[0m in \u001b[0;36m<cell line: 1>\u001b[0;34m()\u001b[0m\n\u001b[0;32m----> 1\u001b[0;31m \u001b[0mtorch\u001b[0m\u001b[0;34m.\u001b[0m\u001b[0mrand_like\u001b[0m\u001b[0;34m(\u001b[0m\u001b[0mx\u001b[0m\u001b[0;34m)\u001b[0m\u001b[0;34m\u001b[0m\u001b[0;34m\u001b[0m\u001b[0m\n\u001b[0m\u001b[1;32m      2\u001b[0m \u001b[0;31m# ''' this will not work\u001b[0m\u001b[0;34m\u001b[0m\u001b[0;34m\u001b[0m\u001b[0m\n\u001b[1;32m      3\u001b[0m \u001b[0;31m# because we are saying we want a new tensor like 'x' with 'values randomly intialised(rand func)'\u001b[0m\u001b[0;34m\u001b[0m\u001b[0;34m\u001b[0m\u001b[0m\n\u001b[1;32m      4\u001b[0m \u001b[0;31m# but our in tensor 'x' all its elements/items are 'integers'\u001b[0m\u001b[0;34m\u001b[0m\u001b[0;34m\u001b[0m\u001b[0m\n\u001b[1;32m      5\u001b[0m \u001b[0;31m# whereas rand func will generate 'floats b/w 0 and 1'\u001b[0m\u001b[0;34m\u001b[0m\u001b[0;34m\u001b[0m\u001b[0m\n",
            "\u001b[0;31mRuntimeError\u001b[0m: \"check_uniform_bounds\" not implemented for 'Long'"
          ]
        }
      ]
    },
    {
      "cell_type": "code",
      "source": [
        "# before solving this problem\n",
        "# let's first learn about datatypes"
      ],
      "metadata": {
        "id": "MO1moOHAItyh"
      },
      "execution_count": null,
      "outputs": []
    },
    {
      "cell_type": "code",
      "source": [
        "# (learn about data types below and then come to this cell)\n",
        "# this fixes the above problem\n",
        "torch.rand_like(x, dtype=torch.float32)"
      ],
      "metadata": {
        "colab": {
          "base_uri": "https://localhost:8080/"
        },
        "id": "zRQeIWy5O9mz",
        "outputId": "d705ca61-d0b6-4bbf-85ef-49e549fe009c"
      },
      "execution_count": 28,
      "outputs": [
        {
          "output_type": "execute_result",
          "data": {
            "text/plain": [
              "tensor([[0.2627, 0.0428, 0.2080],\n",
              "        [0.1180, 0.1217, 0.7356]])"
            ]
          },
          "metadata": {},
          "execution_count": 28
        }
      ]
    },
    {
      "cell_type": "markdown",
      "source": [
        "## Tensor Data Types"
      ],
      "metadata": {
        "id": "1dAj0Y9UIt08"
      }
    },
    {
      "cell_type": "code",
      "source": [
        "# find data type\n",
        "x"
      ],
      "metadata": {
        "colab": {
          "base_uri": "https://localhost:8080/"
        },
        "id": "ENKCWFatIt20",
        "outputId": "cd324971-070b-449d-a166-f32b318c6fd9"
      },
      "execution_count": 21,
      "outputs": [
        {
          "output_type": "execute_result",
          "data": {
            "text/plain": [
              "tensor([[1, 2, 3],\n",
              "        [4, 5, 6]])"
            ]
          },
          "metadata": {},
          "execution_count": 21
        }
      ]
    },
    {
      "cell_type": "code",
      "source": [
        "x.dtype"
      ],
      "metadata": {
        "colab": {
          "base_uri": "https://localhost:8080/"
        },
        "id": "cg2y8zdxIt5R",
        "outputId": "c5fb9743-3f9e-4597-8800-53fef5fbb550"
      },
      "execution_count": 22,
      "outputs": [
        {
          "output_type": "execute_result",
          "data": {
            "text/plain": [
              "torch.int64"
            ]
          },
          "metadata": {},
          "execution_count": 22
        }
      ]
    },
    {
      "cell_type": "code",
      "source": [
        "# assign data type\n",
        "torch.tensor([1.0,2.0,3.0], dtype=torch.int32)"
      ],
      "metadata": {
        "colab": {
          "base_uri": "https://localhost:8080/"
        },
        "id": "s3QkJTPNIt8I",
        "outputId": "fe5f60b6-8d26-4caa-fc3f-fa9c51328572"
      },
      "execution_count": 23,
      "outputs": [
        {
          "output_type": "execute_result",
          "data": {
            "text/plain": [
              "tensor([1, 2, 3], dtype=torch.int32)"
            ]
          },
          "metadata": {},
          "execution_count": 23
        }
      ]
    },
    {
      "cell_type": "code",
      "source": [
        "torch.tensor([1,2,3], dtype = torch.float64)"
      ],
      "metadata": {
        "colab": {
          "base_uri": "https://localhost:8080/"
        },
        "id": "ANNAAbyPAwma",
        "outputId": "78fd2360-e3f2-4640-ab8f-c50ff6c50a6a"
      },
      "execution_count": 24,
      "outputs": [
        {
          "output_type": "execute_result",
          "data": {
            "text/plain": [
              "tensor([1., 2., 3.], dtype=torch.float64)"
            ]
          },
          "metadata": {},
          "execution_count": 24
        }
      ]
    },
    {
      "cell_type": "code",
      "source": [
        "# using to() - to change the data type of already made tensor(existing tensor)"
      ],
      "metadata": {
        "id": "eXY78jAPAwpG"
      },
      "execution_count": null,
      "outputs": []
    },
    {
      "cell_type": "code",
      "source": [
        "x"
      ],
      "metadata": {
        "colab": {
          "base_uri": "https://localhost:8080/"
        },
        "id": "ItCtdI6JAwr3",
        "outputId": "6db7df15-6143-4aa4-b629-54420e784def"
      },
      "execution_count": 25,
      "outputs": [
        {
          "output_type": "execute_result",
          "data": {
            "text/plain": [
              "tensor([[1, 2, 3],\n",
              "        [4, 5, 6]])"
            ]
          },
          "metadata": {},
          "execution_count": 25
        }
      ]
    },
    {
      "cell_type": "code",
      "source": [
        "x.to(torch.float32)"
      ],
      "metadata": {
        "colab": {
          "base_uri": "https://localhost:8080/"
        },
        "id": "WnUN2dVzAww9",
        "outputId": "905a9958-95e6-45b1-a3d4-abd5cb810120"
      },
      "execution_count": 26,
      "outputs": [
        {
          "output_type": "execute_result",
          "data": {
            "text/plain": [
              "tensor([[1., 2., 3.],\n",
              "        [4., 5., 6.]])"
            ]
          },
          "metadata": {},
          "execution_count": 26
        }
      ]
    },
    {
      "cell_type": "code",
      "source": [
        "#data types available in PyTorch"
      ],
      "metadata": {
        "id": "aYjqv1noAwzo"
      },
      "execution_count": null,
      "outputs": []
    },
    {
      "cell_type": "markdown",
      "source": [
        "| **Data Type**             | **Dtype**         | **Description**                                                                                                                                                                |\n",
        "|---------------------------|-------------------|--------------------------------------------------------------------------------------------------------------------------------------------------------------------------------|\n",
        "| **32-bit Floating Point** | `torch.float32`   | Standard floating-point type used for most deep learning tasks. Provides a balance between precision and memory usage.                                                         |\n",
        "| **64-bit Floating Point** | `torch.float64`   | Double-precision floating point. Useful for high-precision numerical tasks but uses more memory.                                                                               |\n",
        "| **16-bit Floating Point** | `torch.float16`   | Half-precision floating point. Commonly used in mixed-precision training to reduce memory and computational overhead on modern GPUs.                                            |\n",
        "| **BFloat16**              | `torch.bfloat16`  | Brain floating-point format with reduced precision compared to `float16`. Used in mixed-precision training, especially on TPUs.                                                |\n",
        "| **8-bit Floating Point**  | `torch.float8`    | Ultra-low-precision floating point. Used for experimental applications and extreme memory-constrained environments (less common).                                               |\n",
        "| **8-bit Integer**         | `torch.int8`      | 8-bit signed integer. Used for quantized models to save memory and computation in inference.                                                                                   |\n",
        "| **16-bit Integer**        | `torch.int16`     | 16-bit signed integer. Useful for special numerical tasks requiring intermediate precision.                                                                                    |\n",
        "| **32-bit Integer**        | `torch.int32`     | Standard signed integer type. Commonly used for indexing and general-purpose numerical tasks.                                                                                  |\n",
        "| **64-bit Integer**        | `torch.int64`     | Long integer type. Often used for large indexing arrays or for tasks involving large numbers.                                                                                  |\n",
        "| **8-bit Unsigned Integer**| `torch.uint8`     | 8-bit unsigned integer. Commonly used for image data (e.g., pixel values between 0 and 255).                                                                                    |\n",
        "| **Boolean**               | `torch.bool`      | Boolean type, stores `True` or `False` values. Often used for masks in logical operations.                                                                                      |\n",
        "| **Complex 64**            | `torch.complex64` | Complex number type with 32-bit real and 32-bit imaginary parts. Used for scientific and signal processing tasks.                                                               |\n",
        "| **Complex 128**           | `torch.complex128`| Complex number type with 64-bit real and 64-bit imaginary parts. Offers higher precision but uses more memory.                                                                 |\n",
        "| **Quantized Integer**     | `torch.qint8`     | Quantized signed 8-bit integer. Used in quantized models for efficient inference.                                                                                              |\n",
        "| **Quantized Unsigned Integer** | `torch.quint8` | Quantized unsigned 8-bit integer. Often used for quantized tensors in image-related tasks.                                                                                     |\n"
      ],
      "metadata": {
        "id": "bnG1_L88Aw2N"
      }
    },
    {
      "cell_type": "markdown",
      "source": [
        "## Mathematical Operations on Tensor"
      ],
      "metadata": {
        "id": "aq5L1EPCAw49"
      }
    },
    {
      "cell_type": "markdown",
      "source": [
        "### 1. Scalar operation"
      ],
      "metadata": {
        "id": "NOE48_I8Aw7l"
      }
    },
    {
      "cell_type": "code",
      "source": [
        "x = torch.rand(2,2)\n",
        "x"
      ],
      "metadata": {
        "colab": {
          "base_uri": "https://localhost:8080/"
        },
        "id": "gIq4qu5UAw-I",
        "outputId": "2ec1bbde-9d28-41b1-9095-6f1a23be6b62"
      },
      "execution_count": 29,
      "outputs": [
        {
          "output_type": "execute_result",
          "data": {
            "text/plain": [
              "tensor([[0.7118, 0.7876],\n",
              "        [0.4183, 0.9014]])"
            ]
          },
          "metadata": {},
          "execution_count": 29
        }
      ]
    },
    {
      "cell_type": "code",
      "source": [
        "# addition\n",
        "print(x + 2)\n",
        "# substraction\n",
        "print(x - 2)\n",
        "# multiplication\n",
        "print(x * 3)\n",
        "# division\n",
        "print(x / 3)\n",
        "# int division\n",
        "print((x * 100)//3)\n",
        "# mod\n",
        "print(((x * 100)//3)%2)\n",
        "# power\n",
        "print(x**2)"
      ],
      "metadata": {
        "colab": {
          "base_uri": "https://localhost:8080/"
        },
        "id": "-9rq8FOyAxBG",
        "outputId": "889296d5-5d8b-4c69-f184-316c6602b10b"
      },
      "execution_count": 30,
      "outputs": [
        {
          "output_type": "stream",
          "name": "stdout",
          "text": [
            "tensor([[2.7118, 2.7876],\n",
            "        [2.4183, 2.9014]])\n",
            "tensor([[-1.2882, -1.2124],\n",
            "        [-1.5817, -1.0986]])\n",
            "tensor([[2.1353, 2.3627],\n",
            "        [1.2549, 2.7042]])\n",
            "tensor([[0.2373, 0.2625],\n",
            "        [0.1394, 0.3005]])\n",
            "tensor([[23., 26.],\n",
            "        [13., 30.]])\n",
            "tensor([[1., 0.],\n",
            "        [1., 0.]])\n",
            "tensor([[0.5066, 0.6203],\n",
            "        [0.1750, 0.8125]])\n"
          ]
        }
      ]
    },
    {
      "cell_type": "markdown",
      "source": [
        "### 2. Element Wise Operations"
      ],
      "metadata": {
        "id": "pt6ghWi6AxDX"
      }
    },
    {
      "cell_type": "code",
      "source": [
        "a = torch.rand(2,3)\n",
        "b = torch.rand(2,3)\n",
        "\n",
        "print(a)\n",
        "print(b)"
      ],
      "metadata": {
        "colab": {
          "base_uri": "https://localhost:8080/"
        },
        "id": "_wuH4tm0PON0",
        "outputId": "8a696de0-9474-43cd-e3ea-e80b4f9a5563"
      },
      "execution_count": 31,
      "outputs": [
        {
          "output_type": "stream",
          "name": "stdout",
          "text": [
            "tensor([[0.9969, 0.7565, 0.2239],\n",
            "        [0.3023, 0.1784, 0.8238]])\n",
            "tensor([[0.5557, 0.9770, 0.4440],\n",
            "        [0.9478, 0.7445, 0.4892]])\n"
          ]
        }
      ]
    },
    {
      "cell_type": "code",
      "source": [
        "# add\n",
        "a + b"
      ],
      "metadata": {
        "colab": {
          "base_uri": "https://localhost:8080/"
        },
        "id": "Dgugaro6PORN",
        "outputId": "6d6f9ad8-74c8-4aef-a673-49c87e9c1f90"
      },
      "execution_count": 32,
      "outputs": [
        {
          "output_type": "execute_result",
          "data": {
            "text/plain": [
              "tensor([[1.5526, 1.7335, 0.6679],\n",
              "        [1.2502, 0.9229, 1.3130]])"
            ]
          },
          "metadata": {},
          "execution_count": 32
        }
      ]
    },
    {
      "cell_type": "code",
      "source": [
        "# sub\n",
        "a - b"
      ],
      "metadata": {
        "colab": {
          "base_uri": "https://localhost:8080/"
        },
        "id": "eMqGp80DPOUT",
        "outputId": "01861cb6-b9aa-4e10-f251-e4c0071617ed"
      },
      "execution_count": 33,
      "outputs": [
        {
          "output_type": "execute_result",
          "data": {
            "text/plain": [
              "tensor([[ 0.4411, -0.2205, -0.2201],\n",
              "        [-0.6455, -0.5661,  0.3346]])"
            ]
          },
          "metadata": {},
          "execution_count": 33
        }
      ]
    },
    {
      "cell_type": "code",
      "source": [
        "#multiply\n",
        "\n",
        "a * b"
      ],
      "metadata": {
        "colab": {
          "base_uri": "https://localhost:8080/"
        },
        "id": "TSBTs-OBPOXJ",
        "outputId": "9f8636bc-5545-4af0-c720-601fffc2fff2"
      },
      "execution_count": 34,
      "outputs": [
        {
          "output_type": "execute_result",
          "data": {
            "text/plain": [
              "tensor([[0.5540, 0.7391, 0.0994],\n",
              "        [0.2866, 0.1328, 0.4030]])"
            ]
          },
          "metadata": {},
          "execution_count": 34
        }
      ]
    },
    {
      "cell_type": "code",
      "source": [
        "# division\n",
        "\n",
        "a / b"
      ],
      "metadata": {
        "colab": {
          "base_uri": "https://localhost:8080/"
        },
        "id": "JiB406cGPOZ1",
        "outputId": "98d9262e-ec69-4ed1-f8cc-34b171e31ad9"
      },
      "execution_count": 35,
      "outputs": [
        {
          "output_type": "execute_result",
          "data": {
            "text/plain": [
              "tensor([[1.7938, 0.7743, 0.5042],\n",
              "        [0.3190, 0.2397, 1.6841]])"
            ]
          },
          "metadata": {},
          "execution_count": 35
        }
      ]
    },
    {
      "cell_type": "code",
      "source": [
        "# power\n",
        "\n",
        "a ** b"
      ],
      "metadata": {
        "colab": {
          "base_uri": "https://localhost:8080/"
        },
        "id": "-cOfj42qPOcO",
        "outputId": "49afdf6b-9480-417b-b6a3-5d1df6d4afed"
      },
      "execution_count": 36,
      "outputs": [
        {
          "output_type": "execute_result",
          "data": {
            "text/plain": [
              "tensor([[0.9983, 0.7614, 0.5145],\n",
              "        [0.3218, 0.2771, 0.9096]])"
            ]
          },
          "metadata": {},
          "execution_count": 36
        }
      ]
    },
    {
      "cell_type": "code",
      "source": [
        "# mod\n",
        "a % b"
      ],
      "metadata": {
        "colab": {
          "base_uri": "https://localhost:8080/"
        },
        "id": "ACTqOaIePOeV",
        "outputId": "eb21e6dd-fac4-47ef-ff64-8f6a5fcc672a"
      },
      "execution_count": 37,
      "outputs": [
        {
          "output_type": "execute_result",
          "data": {
            "text/plain": [
              "tensor([[0.4411, 0.7565, 0.2239],\n",
              "        [0.3023, 0.1784, 0.3346]])"
            ]
          },
          "metadata": {},
          "execution_count": 37
        }
      ]
    },
    {
      "cell_type": "code",
      "source": [
        "c = torch.tensor([1,-2,3,-4])"
      ],
      "metadata": {
        "id": "NOWDCjSOPOg-"
      },
      "execution_count": 38,
      "outputs": []
    },
    {
      "cell_type": "code",
      "source": [
        "# abs - absolute value of tensor\n",
        "\n",
        "torch.abs(c)"
      ],
      "metadata": {
        "colab": {
          "base_uri": "https://localhost:8080/"
        },
        "id": "tEjA1PPEPOlm",
        "outputId": "890e0fd6-0b3b-405c-ff52-d3995c69f0bb"
      },
      "execution_count": 39,
      "outputs": [
        {
          "output_type": "execute_result",
          "data": {
            "text/plain": [
              "tensor([1, 2, 3, 4])"
            ]
          },
          "metadata": {},
          "execution_count": 39
        }
      ]
    },
    {
      "cell_type": "code",
      "source": [
        "# negative\n",
        "torch.neg(c)"
      ],
      "metadata": {
        "colab": {
          "base_uri": "https://localhost:8080/"
        },
        "id": "OBd22ph0POoF",
        "outputId": "7460bf3f-00db-48bf-f753-4932888c043e"
      },
      "execution_count": 40,
      "outputs": [
        {
          "output_type": "execute_result",
          "data": {
            "text/plain": [
              "tensor([-1,  2, -3,  4])"
            ]
          },
          "metadata": {},
          "execution_count": 40
        }
      ]
    },
    {
      "cell_type": "code",
      "source": [
        "d = torch.tensor([1.9,2.3,3.7,4.4])"
      ],
      "metadata": {
        "id": "zKKdufhcRvMa"
      },
      "execution_count": 41,
      "outputs": []
    },
    {
      "cell_type": "code",
      "source": [
        "# round\n",
        "torch.round(d)"
      ],
      "metadata": {
        "colab": {
          "base_uri": "https://localhost:8080/"
        },
        "id": "kI8hs-GDPOrA",
        "outputId": "b340c71c-e738-4d46-a8fb-f60b82b27fe2"
      },
      "execution_count": 42,
      "outputs": [
        {
          "output_type": "execute_result",
          "data": {
            "text/plain": [
              "tensor([2., 2., 4., 4.])"
            ]
          },
          "metadata": {},
          "execution_count": 42
        }
      ]
    },
    {
      "cell_type": "code",
      "source": [
        "# ceil\n",
        "torch.ceil(d)"
      ],
      "metadata": {
        "colab": {
          "base_uri": "https://localhost:8080/"
        },
        "id": "eqj3ekavPOte",
        "outputId": "d56f37ad-6df1-4288-ca68-709aaca413c9"
      },
      "execution_count": 43,
      "outputs": [
        {
          "output_type": "execute_result",
          "data": {
            "text/plain": [
              "tensor([2., 3., 4., 5.])"
            ]
          },
          "metadata": {},
          "execution_count": 43
        }
      ]
    },
    {
      "cell_type": "code",
      "source": [
        "# floor\n",
        "torch.floor(d)"
      ],
      "metadata": {
        "colab": {
          "base_uri": "https://localhost:8080/"
        },
        "id": "z8_xIf0DPOwY",
        "outputId": "10812810-04a5-45a2-f3de-086c43b022ab"
      },
      "execution_count": 44,
      "outputs": [
        {
          "output_type": "execute_result",
          "data": {
            "text/plain": [
              "tensor([1., 2., 3., 4.])"
            ]
          },
          "metadata": {},
          "execution_count": 44
        }
      ]
    },
    {
      "cell_type": "code",
      "source": [
        "# clamp - we can keep the numbers in a particular range\n",
        "torch.clamp(d, min = 2, max = 3)\n",
        "# ex if we define a range of min = 2 and max = 3\n",
        "# then the numbers smaller than will become 2\n",
        "# and the numbers greater than 3 will become 3"
      ],
      "metadata": {
        "colab": {
          "base_uri": "https://localhost:8080/"
        },
        "id": "xNb413unPOyr",
        "outputId": "a810cc62-5c96-4104-9596-b1456bd0947c"
      },
      "execution_count": 45,
      "outputs": [
        {
          "output_type": "execute_result",
          "data": {
            "text/plain": [
              "tensor([2.0000, 2.3000, 3.0000, 3.0000])"
            ]
          },
          "metadata": {},
          "execution_count": 45
        }
      ]
    },
    {
      "cell_type": "markdown",
      "source": [
        "### 3. Reduction Operation"
      ],
      "metadata": {
        "id": "k6b5ZnmDPO0_"
      }
    },
    {
      "cell_type": "code",
      "source": [
        "# reduction operation - reducing a whole tensor to a single number"
      ],
      "metadata": {
        "id": "ETxsd7ilPO3n"
      },
      "execution_count": null,
      "outputs": []
    },
    {
      "cell_type": "code",
      "source": [
        " e = torch.randint(size=(2,3), low = 0, high = 10, dtype = torch.float32)\n",
        " e"
      ],
      "metadata": {
        "colab": {
          "base_uri": "https://localhost:8080/"
        },
        "id": "npTiDdZzRhyH",
        "outputId": "8994e70e-4673-48c0-ce10-ee22782efe4b"
      },
      "execution_count": 8,
      "outputs": [
        {
          "output_type": "execute_result",
          "data": {
            "text/plain": [
              "tensor([[6., 7., 0.],\n",
              "        [5., 3., 7.]])"
            ]
          },
          "metadata": {},
          "execution_count": 8
        }
      ]
    },
    {
      "cell_type": "code",
      "source": [
        "# sum\n",
        "print(torch.sum(e))\n",
        "\n",
        "#sum along column\n",
        "print(torch.sum(e, dim = 0))\n",
        "\n",
        "#sum along row\n",
        "print(torch.sum(e, dim = 1))"
      ],
      "metadata": {
        "colab": {
          "base_uri": "https://localhost:8080/"
        },
        "id": "rdrxAktERh2z",
        "outputId": "59d67895-5d19-4ac7-e160-cd3683df1429"
      },
      "execution_count": 9,
      "outputs": [
        {
          "output_type": "stream",
          "name": "stdout",
          "text": [
            "tensor(28.)\n",
            "tensor([11., 10.,  7.])\n",
            "tensor([13., 15.])\n"
          ]
        }
      ]
    },
    {
      "cell_type": "code",
      "source": [
        "# mean\n",
        "print(torch.mean(e))\n",
        "\n",
        "# mean along column\n",
        "print(torch.mean(e, dim = 0))\n",
        "\n",
        "# mean along row\n",
        "print(torch.mean(e, dim = 1))"
      ],
      "metadata": {
        "colab": {
          "base_uri": "https://localhost:8080/"
        },
        "id": "MI5Y2xOmRh6l",
        "outputId": "77095fe0-754a-4b16-d309-de562466aa40"
      },
      "execution_count": 10,
      "outputs": [
        {
          "output_type": "stream",
          "name": "stdout",
          "text": [
            "tensor(4.6667)\n",
            "tensor([5.5000, 5.0000, 3.5000])\n",
            "tensor([4.3333, 5.0000])\n"
          ]
        }
      ]
    },
    {
      "cell_type": "code",
      "source": [
        "# median\n",
        "torch.median(e)"
      ],
      "metadata": {
        "colab": {
          "base_uri": "https://localhost:8080/"
        },
        "id": "v9rs8WEqRh-c",
        "outputId": "f710270d-e61d-4065-addc-7a1e54905c22"
      },
      "execution_count": 11,
      "outputs": [
        {
          "output_type": "execute_result",
          "data": {
            "text/plain": [
              "tensor(5.)"
            ]
          },
          "metadata": {},
          "execution_count": 11
        }
      ]
    },
    {
      "cell_type": "code",
      "source": [
        "# max and min\n",
        "print(torch.max(e))\n",
        "print(torch.min(e))"
      ],
      "metadata": {
        "colab": {
          "base_uri": "https://localhost:8080/"
        },
        "id": "wR_LEecbRiBa",
        "outputId": "0819257e-8a1c-4bf4-e911-14d7773745ee"
      },
      "execution_count": 12,
      "outputs": [
        {
          "output_type": "stream",
          "name": "stdout",
          "text": [
            "tensor(7.)\n",
            "tensor(0.)\n"
          ]
        }
      ]
    },
    {
      "cell_type": "code",
      "source": [
        "# product\n",
        "torch.prod(e)"
      ],
      "metadata": {
        "colab": {
          "base_uri": "https://localhost:8080/"
        },
        "id": "9sUk66hjRiD6",
        "outputId": "c280784c-07b7-45ef-e1cd-84e01657e6ce"
      },
      "execution_count": 13,
      "outputs": [
        {
          "output_type": "execute_result",
          "data": {
            "text/plain": [
              "tensor(0.)"
            ]
          },
          "metadata": {},
          "execution_count": 13
        }
      ]
    },
    {
      "cell_type": "code",
      "source": [
        "# standard deviation\n",
        "torch.std(e)"
      ],
      "metadata": {
        "colab": {
          "base_uri": "https://localhost:8080/"
        },
        "id": "o4GaRzloRiHK",
        "outputId": "00bf45fa-3236-45e0-e7b2-234b2fdb10fa"
      },
      "execution_count": 14,
      "outputs": [
        {
          "output_type": "execute_result",
          "data": {
            "text/plain": [
              "tensor(2.7325)"
            ]
          },
          "metadata": {},
          "execution_count": 14
        }
      ]
    },
    {
      "cell_type": "code",
      "source": [
        "# variance\n",
        "torch.var(e)"
      ],
      "metadata": {
        "colab": {
          "base_uri": "https://localhost:8080/"
        },
        "id": "khX4HW-FRiJw",
        "outputId": "492f8917-346c-4871-d2ac-632425f7fc43"
      },
      "execution_count": 15,
      "outputs": [
        {
          "output_type": "execute_result",
          "data": {
            "text/plain": [
              "tensor(7.4667)"
            ]
          },
          "metadata": {},
          "execution_count": 15
        }
      ]
    },
    {
      "cell_type": "code",
      "source": [
        "# argmax - tells us the position of the largest element/item.\n",
        "torch.argmax(e)"
      ],
      "metadata": {
        "colab": {
          "base_uri": "https://localhost:8080/"
        },
        "id": "Af8R3fGynAY0",
        "outputId": "e189d80c-6ac2-476a-b2c6-124027e6d853"
      },
      "execution_count": 16,
      "outputs": [
        {
          "output_type": "execute_result",
          "data": {
            "text/plain": [
              "tensor(1)"
            ]
          },
          "metadata": {},
          "execution_count": 16
        }
      ]
    },
    {
      "cell_type": "code",
      "source": [
        "# argmin - tells us the position of the smalles element/item.\n",
        "torch.argmin(e)"
      ],
      "metadata": {
        "colab": {
          "base_uri": "https://localhost:8080/"
        },
        "id": "fuMXS8J8RiMZ",
        "outputId": "8eb436ee-ea3f-4383-f7ad-4d99e5f52ebf"
      },
      "execution_count": 17,
      "outputs": [
        {
          "output_type": "execute_result",
          "data": {
            "text/plain": [
              "tensor(2)"
            ]
          },
          "metadata": {},
          "execution_count": 17
        }
      ]
    },
    {
      "cell_type": "markdown",
      "source": [
        "### 4. Matrix Operations"
      ],
      "metadata": {
        "id": "_RKhbU8BRiPP"
      }
    },
    {
      "cell_type": "code",
      "source": [
        "f = torch.randint(size=(2,3), low=0, high=10)\n",
        "g = torch.randint(size=(3,2), low=0, high=10)\n",
        "\n",
        "print(f)\n",
        "print(g)"
      ],
      "metadata": {
        "colab": {
          "base_uri": "https://localhost:8080/"
        },
        "id": "bzi_rAw8RiSG",
        "outputId": "758643d1-0f7b-4083-edba-9f5e2aeff12b"
      },
      "execution_count": 18,
      "outputs": [
        {
          "output_type": "stream",
          "name": "stdout",
          "text": [
            "tensor([[2, 3, 7],\n",
            "        [3, 2, 8]])\n",
            "tensor([[6, 1],\n",
            "        [5, 6],\n",
            "        [7, 6]])\n"
          ]
        }
      ]
    },
    {
      "cell_type": "code",
      "source": [
        "# matrix multiplication\n",
        "\n",
        "torch.matmul(f,g)"
      ],
      "metadata": {
        "colab": {
          "base_uri": "https://localhost:8080/"
        },
        "id": "SADMiOqZRiU2",
        "outputId": "a32275d3-e161-41e1-9ba8-fd22924b45ea"
      },
      "execution_count": 19,
      "outputs": [
        {
          "output_type": "execute_result",
          "data": {
            "text/plain": [
              "tensor([[76, 62],\n",
              "        [84, 63]])"
            ]
          },
          "metadata": {},
          "execution_count": 19
        }
      ]
    },
    {
      "cell_type": "code",
      "source": [
        "vector1 = torch.tensor([1, 2])\n",
        "vector2 = torch.tensor([3, 4])\n",
        "\n",
        "# dot product\n",
        "torch.dot(vector1, vector2)"
      ],
      "metadata": {
        "colab": {
          "base_uri": "https://localhost:8080/"
        },
        "id": "jwvfn6WgRiXY",
        "outputId": "68a5a81c-8431-4de6-a3ab-067d50c7cbbe"
      },
      "execution_count": 20,
      "outputs": [
        {
          "output_type": "execute_result",
          "data": {
            "text/plain": [
              "tensor(11)"
            ]
          },
          "metadata": {},
          "execution_count": 20
        }
      ]
    },
    {
      "cell_type": "code",
      "source": [
        "f"
      ],
      "metadata": {
        "colab": {
          "base_uri": "https://localhost:8080/"
        },
        "id": "Wf55KufGRiaO",
        "outputId": "95d341a8-514f-4976-e959-4d9481bd9776"
      },
      "execution_count": 21,
      "outputs": [
        {
          "output_type": "execute_result",
          "data": {
            "text/plain": [
              "tensor([[2, 3, 7],\n",
              "        [3, 2, 8]])"
            ]
          },
          "metadata": {},
          "execution_count": 21
        }
      ]
    },
    {
      "cell_type": "code",
      "source": [
        "#transpose - torch.transpose(matrix_name, the dim you want to swap, the dim you want to swap it with)\n",
        "torch.transpose(f,0,1)"
      ],
      "metadata": {
        "colab": {
          "base_uri": "https://localhost:8080/"
        },
        "id": "HO_d9Rx-Rifr",
        "outputId": "617a2937-a05f-4cb9-c24e-3e41db94fcbb"
      },
      "execution_count": 22,
      "outputs": [
        {
          "output_type": "execute_result",
          "data": {
            "text/plain": [
              "tensor([[2, 3],\n",
              "        [3, 2],\n",
              "        [7, 8]])"
            ]
          },
          "metadata": {},
          "execution_count": 22
        }
      ]
    },
    {
      "cell_type": "code",
      "source": [
        "h = torch.randint(size=(3,3), low=0, high=10, dtype=torch.float32)\n",
        "h"
      ],
      "metadata": {
        "colab": {
          "base_uri": "https://localhost:8080/"
        },
        "id": "mNoZNJqYRiig",
        "outputId": "f3be93e6-69d6-487e-933d-1ac511c1e0ce"
      },
      "execution_count": 23,
      "outputs": [
        {
          "output_type": "execute_result",
          "data": {
            "text/plain": [
              "tensor([[7., 7., 3.],\n",
              "        [3., 9., 2.],\n",
              "        [4., 4., 7.]])"
            ]
          },
          "metadata": {},
          "execution_count": 23
        }
      ]
    },
    {
      "cell_type": "code",
      "source": [
        "# determinant\n",
        "torch.det(h)"
      ],
      "metadata": {
        "colab": {
          "base_uri": "https://localhost:8080/"
        },
        "id": "KRS9AfdJRilF",
        "outputId": "5576d84f-2577-4a68-cccb-4d602c3f1381"
      },
      "execution_count": 24,
      "outputs": [
        {
          "output_type": "execute_result",
          "data": {
            "text/plain": [
              "tensor(222.)"
            ]
          },
          "metadata": {},
          "execution_count": 24
        }
      ]
    },
    {
      "cell_type": "code",
      "source": [
        "# inverse\n",
        "torch.inverse(h)"
      ],
      "metadata": {
        "colab": {
          "base_uri": "https://localhost:8080/"
        },
        "id": "98zyAA_tRin_",
        "outputId": "a1fc18b8-53da-41a7-f14d-9406279892eb"
      },
      "execution_count": 25,
      "outputs": [
        {
          "output_type": "execute_result",
          "data": {
            "text/plain": [
              "tensor([[ 0.2477, -0.1667, -0.0586],\n",
              "        [-0.0586,  0.1667, -0.0225],\n",
              "        [-0.1081,  0.0000,  0.1892]])"
            ]
          },
          "metadata": {},
          "execution_count": 25
        }
      ]
    },
    {
      "cell_type": "markdown",
      "source": [
        "### 5. Comparison Operations"
      ],
      "metadata": {
        "id": "s_jYdLDQRiqq"
      }
    },
    {
      "cell_type": "code",
      "source": [
        "i = torch.randint(size = (2,3), low = 0, high = 10)\n",
        "j = torch.randint(size = (2,3), low = 0, high = 10)\n",
        "\n",
        "print(i)\n",
        "print(j)"
      ],
      "metadata": {
        "colab": {
          "base_uri": "https://localhost:8080/"
        },
        "id": "t8J0ZcJ8RitO",
        "outputId": "caa975cc-3191-45f8-f717-132b352b80cd"
      },
      "execution_count": 27,
      "outputs": [
        {
          "output_type": "stream",
          "name": "stdout",
          "text": [
            "tensor([[5, 1, 8],\n",
            "        [7, 3, 4]])\n",
            "tensor([[2, 9, 7],\n",
            "        [3, 8, 3]])\n"
          ]
        }
      ]
    },
    {
      "cell_type": "code",
      "source": [
        "# greater than\n",
        "print(i > j)\n",
        "# less than\n",
        "print(i < j)\n",
        "# equal to\n",
        "print(i == j)\n",
        "# not equal to\n",
        "print(i != j)\n",
        "# greater than equal to\n",
        "print(i >= j)\n",
        "# less than equal to\n",
        "print(i <= j)"
      ],
      "metadata": {
        "colab": {
          "base_uri": "https://localhost:8080/"
        },
        "id": "oYunupMcRiv6",
        "outputId": "f81798a7-dbfa-4e70-f129-8781021a0e06"
      },
      "execution_count": 29,
      "outputs": [
        {
          "output_type": "stream",
          "name": "stdout",
          "text": [
            "tensor([[ True, False,  True],\n",
            "        [ True, False,  True]])\n",
            "tensor([[False,  True, False],\n",
            "        [False,  True, False]])\n",
            "tensor([[False, False, False],\n",
            "        [False, False, False]])\n",
            "tensor([[True, True, True],\n",
            "        [True, True, True]])\n",
            "tensor([[ True, False,  True],\n",
            "        [ True, False,  True]])\n",
            "tensor([[False,  True, False],\n",
            "        [False,  True, False]])\n"
          ]
        }
      ]
    },
    {
      "cell_type": "markdown",
      "source": [
        "### 6. Special Functions"
      ],
      "metadata": {
        "id": "AGAi78F3Riya"
      }
    },
    {
      "cell_type": "code",
      "source": [
        "k = torch.randint(size = (2,3), low = 0, high = 10, dtype=torch.float32)\n",
        "k"
      ],
      "metadata": {
        "colab": {
          "base_uri": "https://localhost:8080/"
        },
        "id": "S8viAX53Ri9I",
        "outputId": "68b62a2b-7653-48b1-ddac-abe3e61c6b22"
      },
      "execution_count": 30,
      "outputs": [
        {
          "output_type": "execute_result",
          "data": {
            "text/plain": [
              "tensor([[6., 5., 2.],\n",
              "        [2., 9., 7.]])"
            ]
          },
          "metadata": {},
          "execution_count": 30
        }
      ]
    },
    {
      "cell_type": "code",
      "source": [
        "# log\n",
        "torch.log(k)"
      ],
      "metadata": {
        "colab": {
          "base_uri": "https://localhost:8080/"
        },
        "id": "hHne1RJwRi_y",
        "outputId": "ceb39ef0-f2ad-4cf0-c851-79c5d490b34d"
      },
      "execution_count": 31,
      "outputs": [
        {
          "output_type": "execute_result",
          "data": {
            "text/plain": [
              "tensor([[1.7918, 1.6094, 0.6931],\n",
              "        [0.6931, 2.1972, 1.9459]])"
            ]
          },
          "metadata": {},
          "execution_count": 31
        }
      ]
    },
    {
      "cell_type": "code",
      "source": [
        "# exponent\n",
        "torch.exp(k)"
      ],
      "metadata": {
        "colab": {
          "base_uri": "https://localhost:8080/"
        },
        "id": "leThacOVnLiX",
        "outputId": "5ec6d9a2-6292-45cf-ae03-6c042bca3bdc"
      },
      "execution_count": 32,
      "outputs": [
        {
          "output_type": "execute_result",
          "data": {
            "text/plain": [
              "tensor([[4.0343e+02, 1.4841e+02, 7.3891e+00],\n",
              "        [7.3891e+00, 8.1031e+03, 1.0966e+03]])"
            ]
          },
          "metadata": {},
          "execution_count": 32
        }
      ]
    },
    {
      "cell_type": "code",
      "source": [
        "# sqrt\n",
        "torch.sqrt(k)"
      ],
      "metadata": {
        "colab": {
          "base_uri": "https://localhost:8080/"
        },
        "id": "l3fJaOYLnLmx",
        "outputId": "7c5c0dff-5bca-4a10-d9ed-25aca759993a"
      },
      "execution_count": 33,
      "outputs": [
        {
          "output_type": "execute_result",
          "data": {
            "text/plain": [
              "tensor([[2.4495, 2.2361, 1.4142],\n",
              "        [1.4142, 3.0000, 2.6458]])"
            ]
          },
          "metadata": {},
          "execution_count": 33
        }
      ]
    },
    {
      "cell_type": "code",
      "source": [
        "#sigmoid\n",
        "torch.sigmoid(k)"
      ],
      "metadata": {
        "colab": {
          "base_uri": "https://localhost:8080/"
        },
        "id": "sAxsCKDTnLrY",
        "outputId": "366ffcf0-bf1c-403a-dfdb-4715bfc0bffd"
      },
      "execution_count": 34,
      "outputs": [
        {
          "output_type": "execute_result",
          "data": {
            "text/plain": [
              "tensor([[0.9975, 0.9933, 0.8808],\n",
              "        [0.8808, 0.9999, 0.9991]])"
            ]
          },
          "metadata": {},
          "execution_count": 34
        }
      ]
    },
    {
      "cell_type": "code",
      "source": [
        "#softmax\n",
        "torch.softmax(k, dim=0)"
      ],
      "metadata": {
        "colab": {
          "base_uri": "https://localhost:8080/"
        },
        "id": "pGFIi0ZBnLu0",
        "outputId": "1eecb0ed-96d0-41d0-b9f7-6520d9814e41"
      },
      "execution_count": 35,
      "outputs": [
        {
          "output_type": "execute_result",
          "data": {
            "text/plain": [
              "tensor([[0.9820, 0.0180, 0.0067],\n",
              "        [0.0180, 0.9820, 0.9933]])"
            ]
          },
          "metadata": {},
          "execution_count": 35
        }
      ]
    },
    {
      "cell_type": "code",
      "source": [
        "# relu\n",
        "torch.relu(k)"
      ],
      "metadata": {
        "colab": {
          "base_uri": "https://localhost:8080/"
        },
        "id": "N5rAuOktnLzH",
        "outputId": "bc7c49be-d263-4061-f0ce-fbd158612b5a"
      },
      "execution_count": 36,
      "outputs": [
        {
          "output_type": "execute_result",
          "data": {
            "text/plain": [
              "tensor([[6., 5., 2.],\n",
              "        [2., 9., 7.]])"
            ]
          },
          "metadata": {},
          "execution_count": 36
        }
      ]
    },
    {
      "cell_type": "markdown",
      "source": [
        "### Inplace Operation"
      ],
      "metadata": {
        "id": "UXwLA_s9nL2p"
      }
    },
    {
      "cell_type": "code",
      "source": [
        "m = torch.rand(2,3)\n",
        "n = torch.rand(2,3)\n",
        "\n",
        "print(m)\n",
        "print(n)"
      ],
      "metadata": {
        "colab": {
          "base_uri": "https://localhost:8080/"
        },
        "id": "nZVMDAZdnL6H",
        "outputId": "323cff2d-8839-4730-e85f-30969243cc87"
      },
      "execution_count": 37,
      "outputs": [
        {
          "output_type": "stream",
          "name": "stdout",
          "text": [
            "tensor([[0.2713, 0.8973, 0.0226],\n",
            "        [0.6265, 0.8295, 0.4959]])\n",
            "tensor([[0.6671, 0.9162, 0.1407],\n",
            "        [0.6156, 0.3601, 0.7854]])\n"
          ]
        }
      ]
    },
    {
      "cell_type": "code",
      "source": [
        "''' let's say we are performing any operations on these tensors\n",
        "for example: let's say addition operation (m + n),\n",
        "so element wise operations are performed and the result is stored\n",
        "in a new tensor (new tensor in memory)\n",
        "will occupy some space in memory\n",
        "this is problematic in some scenarios\n",
        "ex: we are working on a very large dataset represented as a tensor\n",
        "and we are applying tensor operation on it so the same large size\n",
        "new tensor will be formed , so it will eat up a lot of space in memory\n",
        "which is not desirable\n",
        "therefore we try to make changes inplace '''"
      ],
      "metadata": {
        "id": "HxDNdhcEnL9d"
      },
      "execution_count": null,
      "outputs": []
    },
    {
      "cell_type": "code",
      "source": [
        "# adding m + n and storing it in m\n",
        "\n",
        "m.add_(n)"
      ],
      "metadata": {
        "colab": {
          "base_uri": "https://localhost:8080/"
        },
        "id": "MBlpOev0nMBQ",
        "outputId": "060b917b-9f21-4285-b300-4620ff249667"
      },
      "execution_count": 38,
      "outputs": [
        {
          "output_type": "execute_result",
          "data": {
            "text/plain": [
              "tensor([[0.9383, 1.8135, 0.1632],\n",
              "        [1.2421, 1.1895, 1.2812]])"
            ]
          },
          "metadata": {},
          "execution_count": 38
        }
      ]
    },
    {
      "cell_type": "code",
      "source": [
        "m\n"
      ],
      "metadata": {
        "colab": {
          "base_uri": "https://localhost:8080/"
        },
        "id": "cmPRSheNnMEo",
        "outputId": "057a2e32-cd34-490d-b62c-c653d3e25937"
      },
      "execution_count": 39,
      "outputs": [
        {
          "output_type": "execute_result",
          "data": {
            "text/plain": [
              "tensor([[0.9383, 1.8135, 0.1632],\n",
              "        [1.2421, 1.1895, 1.2812]])"
            ]
          },
          "metadata": {},
          "execution_count": 39
        }
      ]
    },
    {
      "cell_type": "code",
      "source": [
        "torch.relu(m) # new tensor is created for result"
      ],
      "metadata": {
        "colab": {
          "base_uri": "https://localhost:8080/"
        },
        "id": "vrOUChs9nMHr",
        "outputId": "dbe54c50-0073-4864-e32a-b8b5249fd343"
      },
      "execution_count": 40,
      "outputs": [
        {
          "output_type": "execute_result",
          "data": {
            "text/plain": [
              "tensor([[0.9383, 1.8135, 0.1632],\n",
              "        [1.2421, 1.1895, 1.2812]])"
            ]
          },
          "metadata": {},
          "execution_count": 40
        }
      ]
    },
    {
      "cell_type": "code",
      "source": [
        "m.relu_() # inplace operation"
      ],
      "metadata": {
        "colab": {
          "base_uri": "https://localhost:8080/"
        },
        "id": "crksBPiqnMK6",
        "outputId": "17465e1e-ded4-4b9e-a7cc-1fb47df70b22"
      },
      "execution_count": 41,
      "outputs": [
        {
          "output_type": "execute_result",
          "data": {
            "text/plain": [
              "tensor([[0.9383, 1.8135, 0.1632],\n",
              "        [1.2421, 1.1895, 1.2812]])"
            ]
          },
          "metadata": {},
          "execution_count": 41
        }
      ]
    },
    {
      "cell_type": "code",
      "source": [
        "m"
      ],
      "metadata": {
        "colab": {
          "base_uri": "https://localhost:8080/"
        },
        "id": "3_HLogiZnMQR",
        "outputId": "1ca86063-44af-4612-aee1-d7afb533f61f"
      },
      "execution_count": 42,
      "outputs": [
        {
          "output_type": "execute_result",
          "data": {
            "text/plain": [
              "tensor([[0.9383, 1.8135, 0.1632],\n",
              "        [1.2421, 1.1895, 1.2812]])"
            ]
          },
          "metadata": {},
          "execution_count": 42
        }
      ]
    },
    {
      "cell_type": "code",
      "source": [
        "# NOTE:\n",
        "# if we want to make permanent changes inplace then\n",
        "# put _ after a function name\n",
        "# _ represents that we want to perform inplace operations\n",
        "# ex: m.relu_()\n",
        "# m.add_(n)\n",
        "# etc...."
      ],
      "metadata": {
        "id": "hOo9w-x4nMSy"
      },
      "execution_count": null,
      "outputs": []
    },
    {
      "cell_type": "markdown",
      "source": [
        "### Copying a Tensor"
      ],
      "metadata": {
        "id": "1P_GDl6bnMVm"
      }
    },
    {
      "cell_type": "code",
      "source": [
        "a = torch.rand(2,3)\n",
        "a"
      ],
      "metadata": {
        "colab": {
          "base_uri": "https://localhost:8080/"
        },
        "id": "9rgc7gHHnMYS",
        "outputId": "31c0ef8f-ffed-4da0-f728-79c22d663847"
      },
      "execution_count": 43,
      "outputs": [
        {
          "output_type": "execute_result",
          "data": {
            "text/plain": [
              "tensor([[0.3429, 0.5305, 0.7394],\n",
              "        [0.3439, 0.9132, 0.1657]])"
            ]
          },
          "metadata": {},
          "execution_count": 43
        }
      ]
    },
    {
      "cell_type": "code",
      "source": [
        "b = a"
      ],
      "metadata": {
        "id": "hUd7iRtKnMa8"
      },
      "execution_count": 44,
      "outputs": []
    },
    {
      "cell_type": "code",
      "source": [
        "b"
      ],
      "metadata": {
        "colab": {
          "base_uri": "https://localhost:8080/"
        },
        "id": "poLYdUpknMdq",
        "outputId": "bc080541-bdec-4462-dce4-292a5ababa48"
      },
      "execution_count": 45,
      "outputs": [
        {
          "output_type": "execute_result",
          "data": {
            "text/plain": [
              "tensor([[0.3429, 0.5305, 0.7394],\n",
              "        [0.3439, 0.9132, 0.1657]])"
            ]
          },
          "metadata": {},
          "execution_count": 45
        }
      ]
    },
    {
      "cell_type": "code",
      "source": [
        "# the above method of copying ( assignment operator ) has a problem:\n",
        "# if we make any changes to a\n",
        "# then that changes reflect on b as well\n",
        "# example below:"
      ],
      "metadata": {
        "id": "VDJQHSS2uxKl"
      },
      "execution_count": null,
      "outputs": []
    },
    {
      "cell_type": "code",
      "source": [
        "a[0][0] = 0"
      ],
      "metadata": {
        "id": "vi-ShcgDnMgP"
      },
      "execution_count": 46,
      "outputs": []
    },
    {
      "cell_type": "code",
      "source": [
        "a"
      ],
      "metadata": {
        "colab": {
          "base_uri": "https://localhost:8080/"
        },
        "id": "cK1gbIQEuwtR",
        "outputId": "172ea203-0c04-4580-ccc9-336d0f9f2132"
      },
      "execution_count": 47,
      "outputs": [
        {
          "output_type": "execute_result",
          "data": {
            "text/plain": [
              "tensor([[0.0000, 0.5305, 0.7394],\n",
              "        [0.3439, 0.9132, 0.1657]])"
            ]
          },
          "metadata": {},
          "execution_count": 47
        }
      ]
    },
    {
      "cell_type": "code",
      "source": [
        "b"
      ],
      "metadata": {
        "colab": {
          "base_uri": "https://localhost:8080/"
        },
        "id": "QZNsCnuinMi5",
        "outputId": "b6e060bb-cb49-43c9-f6ca-5e444f1863cd"
      },
      "execution_count": 48,
      "outputs": [
        {
          "output_type": "execute_result",
          "data": {
            "text/plain": [
              "tensor([[0.0000, 0.5305, 0.7394],\n",
              "        [0.3439, 0.9132, 0.1657]])"
            ]
          },
          "metadata": {},
          "execution_count": 48
        }
      ]
    },
    {
      "cell_type": "code",
      "source": [
        "# making changes in original\n",
        "# gets changes in the copy as well\n",
        "# this is not desirable in some scenarios\n",
        "# this happens because that's how assignment operator works\n",
        "# it does not create a new copy in memory but rather points another reference on exisiting tensor"
      ],
      "metadata": {
        "id": "Uk1DHRE4nMlV"
      },
      "execution_count": null,
      "outputs": []
    },
    {
      "cell_type": "code",
      "source": [
        "id(a)"
      ],
      "metadata": {
        "colab": {
          "base_uri": "https://localhost:8080/"
        },
        "id": "aCvniZy4nMoo",
        "outputId": "7065b003-8c7d-4816-df75-17a590f99431"
      },
      "execution_count": 49,
      "outputs": [
        {
          "output_type": "execute_result",
          "data": {
            "text/plain": [
              "136365602225376"
            ]
          },
          "metadata": {},
          "execution_count": 49
        }
      ]
    },
    {
      "cell_type": "code",
      "source": [
        "id(b)"
      ],
      "metadata": {
        "colab": {
          "base_uri": "https://localhost:8080/"
        },
        "id": "F4ELBblGnMsV",
        "outputId": "019b0d40-72d8-411a-819c-e8bde8bdad3d"
      },
      "execution_count": 50,
      "outputs": [
        {
          "output_type": "execute_result",
          "data": {
            "text/plain": [
              "136365602225376"
            ]
          },
          "metadata": {},
          "execution_count": 50
        }
      ]
    },
    {
      "cell_type": "code",
      "source": [
        "# same memory location , it means b is also pointing at same mem location"
      ],
      "metadata": {
        "id": "1zKhFUkzvlq_"
      },
      "execution_count": null,
      "outputs": []
    },
    {
      "cell_type": "code",
      "source": [
        "# to eliminate this problem we have another function called as\n",
        "# clone function"
      ],
      "metadata": {
        "id": "EvYRQxqmvtgR"
      },
      "execution_count": null,
      "outputs": []
    },
    {
      "cell_type": "code",
      "source": [
        "b = a.clone()"
      ],
      "metadata": {
        "id": "4D14-pVTvtpH"
      },
      "execution_count": 51,
      "outputs": []
    },
    {
      "cell_type": "code",
      "source": [
        "a"
      ],
      "metadata": {
        "colab": {
          "base_uri": "https://localhost:8080/"
        },
        "id": "AdV-nRRYvttB",
        "outputId": "cce4aa9f-3c09-4e6a-c964-2a65a66ddaa8"
      },
      "execution_count": 52,
      "outputs": [
        {
          "output_type": "execute_result",
          "data": {
            "text/plain": [
              "tensor([[0.0000, 0.5305, 0.7394],\n",
              "        [0.3439, 0.9132, 0.1657]])"
            ]
          },
          "metadata": {},
          "execution_count": 52
        }
      ]
    },
    {
      "cell_type": "code",
      "source": [
        "b"
      ],
      "metadata": {
        "colab": {
          "base_uri": "https://localhost:8080/"
        },
        "id": "eu0oU3xqvtwN",
        "outputId": "66a2634a-45b0-4bf7-9556-4cdb007472b1"
      },
      "execution_count": 53,
      "outputs": [
        {
          "output_type": "execute_result",
          "data": {
            "text/plain": [
              "tensor([[0.0000, 0.5305, 0.7394],\n",
              "        [0.3439, 0.9132, 0.1657]])"
            ]
          },
          "metadata": {},
          "execution_count": 53
        }
      ]
    },
    {
      "cell_type": "code",
      "source": [
        "a[0][0] = 10"
      ],
      "metadata": {
        "id": "rk9Zvzn_vtzN"
      },
      "execution_count": 54,
      "outputs": []
    },
    {
      "cell_type": "code",
      "source": [
        "a"
      ],
      "metadata": {
        "colab": {
          "base_uri": "https://localhost:8080/"
        },
        "id": "0Yi3fy1Avt2c",
        "outputId": "33fe8f0e-8f6a-497f-a706-998906719a3e"
      },
      "execution_count": 55,
      "outputs": [
        {
          "output_type": "execute_result",
          "data": {
            "text/plain": [
              "tensor([[10.0000,  0.5305,  0.7394],\n",
              "        [ 0.3439,  0.9132,  0.1657]])"
            ]
          },
          "metadata": {},
          "execution_count": 55
        }
      ]
    },
    {
      "cell_type": "code",
      "source": [
        "b"
      ],
      "metadata": {
        "colab": {
          "base_uri": "https://localhost:8080/"
        },
        "id": "OV7kpjaGvt51",
        "outputId": "35f76c5c-41c6-4af8-a45e-1e5cbe3cd0c7"
      },
      "execution_count": 56,
      "outputs": [
        {
          "output_type": "execute_result",
          "data": {
            "text/plain": [
              "tensor([[0.0000, 0.5305, 0.7394],\n",
              "        [0.3439, 0.9132, 0.1657]])"
            ]
          },
          "metadata": {},
          "execution_count": 56
        }
      ]
    },
    {
      "cell_type": "code",
      "source": [
        "# we see no changes in copy when we make changes in original\n",
        "# as clone function creates a new tensor in new memory location"
      ],
      "metadata": {
        "id": "n9Rd4NNDwAC4"
      },
      "execution_count": 55,
      "outputs": []
    },
    {
      "cell_type": "code",
      "source": [
        "id(a)"
      ],
      "metadata": {
        "colab": {
          "base_uri": "https://localhost:8080/"
        },
        "id": "Hw9KV83jvt83",
        "outputId": "4cbd0dc4-3d89-45f4-a86f-0eb1ad10abe4"
      },
      "execution_count": 57,
      "outputs": [
        {
          "output_type": "execute_result",
          "data": {
            "text/plain": [
              "136365602225376"
            ]
          },
          "metadata": {},
          "execution_count": 57
        }
      ]
    },
    {
      "cell_type": "code",
      "source": [
        "id(b)"
      ],
      "metadata": {
        "colab": {
          "base_uri": "https://localhost:8080/"
        },
        "id": "3tFQRPFavt_j",
        "outputId": "c8a1b2b1-f296-435d-97a8-800888271e12"
      },
      "execution_count": 58,
      "outputs": [
        {
          "output_type": "execute_result",
          "data": {
            "text/plain": [
              "136365405436592"
            ]
          },
          "metadata": {},
          "execution_count": 58
        }
      ]
    },
    {
      "cell_type": "code",
      "source": [
        "# diff mem loc means two diff tensors\n",
        "# therefore making changes in one doesn't affect the other"
      ],
      "metadata": {
        "id": "86qUKBrLvuCO"
      },
      "execution_count": null,
      "outputs": []
    },
    {
      "cell_type": "code",
      "source": [
        "# all the operations we performed till now were on cpu\n",
        "# now let's learn how to perform operations on cpu"
      ],
      "metadata": {
        "id": "WUQtRwNtwxri"
      },
      "execution_count": null,
      "outputs": []
    },
    {
      "cell_type": "markdown",
      "source": [
        "## Tensor Operations on GPU"
      ],
      "metadata": {
        "id": "DuUMV26cvuFH"
      }
    },
    {
      "cell_type": "code",
      "source": [
        "torch.cuda.is_available() # GPU available or not"
      ],
      "metadata": {
        "colab": {
          "base_uri": "https://localhost:8080/"
        },
        "id": "xethebSnvuHy",
        "outputId": "65771bc3-275d-4eef-a300-ed999787074d"
      },
      "execution_count": 60,
      "outputs": [
        {
          "output_type": "execute_result",
          "data": {
            "text/plain": [
              "True"
            ]
          },
          "metadata": {},
          "execution_count": 60
        }
      ]
    },
    {
      "cell_type": "code",
      "source": [
        "# creating a variable where we store our GPU device\n",
        "\n",
        "device = torch.device('cuda')"
      ],
      "metadata": {
        "id": "x6SWocQ9vuJ3"
      },
      "execution_count": 61,
      "outputs": []
    },
    {
      "cell_type": "code",
      "source": [
        "# creating a new tensor on GPU\n",
        "torch.rand((2,3), device = device)"
      ],
      "metadata": {
        "colab": {
          "base_uri": "https://localhost:8080/"
        },
        "id": "-x6iS_2xvuOx",
        "outputId": "cb1a83bd-c630-4cd7-c064-4661a9f33610"
      },
      "execution_count": 62,
      "outputs": [
        {
          "output_type": "execute_result",
          "data": {
            "text/plain": [
              "tensor([[0.4470, 0.3305, 0.1066],\n",
              "        [0.3258, 0.8261, 0.3114]], device='cuda:0')"
            ]
          },
          "metadata": {},
          "execution_count": 62
        }
      ]
    },
    {
      "cell_type": "code",
      "source": [
        "# moving an existing tensor to GPU\n",
        "a = torch.rand(2,3) # this tensor is built on CPU\n",
        "a"
      ],
      "metadata": {
        "colab": {
          "base_uri": "https://localhost:8080/"
        },
        "id": "vA0vauKFvvzg",
        "outputId": "0a846af6-d213-4f5d-f988-529b5f7efc42"
      },
      "execution_count": 63,
      "outputs": [
        {
          "output_type": "execute_result",
          "data": {
            "text/plain": [
              "tensor([[0.1766, 0.3309, 0.5336],\n",
              "        [0.0769, 0.5965, 0.7238]])"
            ]
          },
          "metadata": {},
          "execution_count": 63
        }
      ]
    },
    {
      "cell_type": "code",
      "source": [
        "b = a.to(device) # this tensor is now moved to GPU\n",
        "b"
      ],
      "metadata": {
        "colab": {
          "base_uri": "https://localhost:8080/"
        },
        "id": "56_6CH3Vvv-Q",
        "outputId": "a6ccaf96-e005-413b-a02e-41bbc5437001"
      },
      "execution_count": 66,
      "outputs": [
        {
          "output_type": "execute_result",
          "data": {
            "text/plain": [
              "tensor([[0.1766, 0.3309, 0.5336],\n",
              "        [0.0769, 0.5965, 0.7238]], device='cuda:0')"
            ]
          },
          "metadata": {},
          "execution_count": 66
        }
      ]
    },
    {
      "cell_type": "code",
      "source": [
        "# now all the operations we do on it will be on GPU"
      ],
      "metadata": {
        "id": "K3sLn4pavwEc"
      },
      "execution_count": null,
      "outputs": []
    },
    {
      "cell_type": "code",
      "source": [
        "b + 5"
      ],
      "metadata": {
        "colab": {
          "base_uri": "https://localhost:8080/"
        },
        "id": "I66sWBr9vwH8",
        "outputId": "cb792956-09ff-4946-deff-4a3296ae270c"
      },
      "execution_count": 67,
      "outputs": [
        {
          "output_type": "execute_result",
          "data": {
            "text/plain": [
              "tensor([[5.1766, 5.3309, 5.5336],\n",
              "        [5.0769, 5.5965, 5.7238]], device='cuda:0')"
            ]
          },
          "metadata": {},
          "execution_count": 67
        }
      ]
    },
    {
      "cell_type": "code",
      "source": [
        "# performance comparison on running tensor on GPU and CPU"
      ],
      "metadata": {
        "id": "1a2LHwVkvwK2"
      },
      "execution_count": null,
      "outputs": []
    },
    {
      "cell_type": "code",
      "source": [
        "import torch\n",
        "import time\n",
        "\n",
        "# Define the size of the matrices\n",
        "size = 10000 # Large size for performance comparison\n",
        "\n",
        "# Create random matrices on CPU\n",
        "matrix_cpu1 = torch.rand(size, size) # 10000 x 10000 size matrix\n",
        "matrix_cpu2 = torch.rand(size, size) # 10000 x 10000 size matrix\n",
        "\n",
        "# Measure time on CPU\n",
        "start_time = time.time()\n",
        "result_cpu = torch.matmul(matrix_cpu1, matrix_cpu2) # performing matrix multiplication\n",
        "cpu_time = time.time() - start_time\n",
        "\n",
        "print(f\"Time taken on CPU: {cpu_time:.4f} seconds\")\n",
        "\n",
        "# Move matrices to GPU\n",
        "matrix_gpu1 = matrix_cpu1.to('cuda')\n",
        "matrix_gpu2 = matrix_cpu2.to('cuda')\n",
        "\n",
        "# Measure time on GPU\n",
        "start_time = time.time()\n",
        "result_gpu = torch.matmul(matrix_gpu1, matrix_gpu2) # Matrix mul on GPU\n",
        "torch.cuda.synchronize() # Ensure all GPU operations are complete\n",
        "gpu_time = time.time() - start_time\n",
        "\n",
        "print(f\"Time taken on GPU: {gpu_time:.4f} seconds\")\n",
        "\n",
        "# Compare results\n",
        "print(\"\\nSpeedup (CPU TIME / GPU TIME):\", cpu_time / gpu_time)"
      ],
      "metadata": {
        "colab": {
          "base_uri": "https://localhost:8080/"
        },
        "id": "pcvkhkE3vwNe",
        "outputId": "91149f5f-1a66-4d1e-a6b7-4d045f52acd4"
      },
      "execution_count": 68,
      "outputs": [
        {
          "output_type": "stream",
          "name": "stdout",
          "text": [
            "Time taken on CPU: 16.5865 seconds\n",
            "Time taken on GPU: 0.7188 seconds\n",
            "\n",
            "Speedup (CPU TIME / GPU TIME): 23.076049989932887\n"
          ]
        }
      ]
    },
    {
      "cell_type": "markdown",
      "source": [
        "## Reshaping Tensors"
      ],
      "metadata": {
        "id": "2hJNSnG-vwQG"
      }
    },
    {
      "cell_type": "code",
      "source": [
        "a = torch.ones(4,4)\n",
        "a"
      ],
      "metadata": {
        "colab": {
          "base_uri": "https://localhost:8080/"
        },
        "id": "0luHLVKovwSU",
        "outputId": "74e0cb74-46fb-4e1b-e4b2-fbf9433ddf58"
      },
      "execution_count": 69,
      "outputs": [
        {
          "output_type": "execute_result",
          "data": {
            "text/plain": [
              "tensor([[1., 1., 1., 1.],\n",
              "        [1., 1., 1., 1.],\n",
              "        [1., 1., 1., 1.],\n",
              "        [1., 1., 1., 1.]])"
            ]
          },
          "metadata": {},
          "execution_count": 69
        }
      ]
    },
    {
      "cell_type": "code",
      "source": [
        "# reshape\n",
        "a.reshape(2,2,2,2)\n",
        "\n",
        "# note : the product of original shape must be equal to the product of reshape shape."
      ],
      "metadata": {
        "colab": {
          "base_uri": "https://localhost:8080/"
        },
        "id": "tuEi8OB542VM",
        "outputId": "723b24a4-8e03-4b9c-95dd-a48c30dbaad4"
      },
      "execution_count": 71,
      "outputs": [
        {
          "output_type": "execute_result",
          "data": {
            "text/plain": [
              "tensor([[[[1., 1.],\n",
              "          [1., 1.]],\n",
              "\n",
              "         [[1., 1.],\n",
              "          [1., 1.]]],\n",
              "\n",
              "\n",
              "        [[[1., 1.],\n",
              "          [1., 1.]],\n",
              "\n",
              "         [[1., 1.],\n",
              "          [1., 1.]]]])"
            ]
          },
          "metadata": {},
          "execution_count": 71
        }
      ]
    },
    {
      "cell_type": "code",
      "source": [
        "# flatten - gives one dimensional tensor\n",
        "a.flatten()"
      ],
      "metadata": {
        "colab": {
          "base_uri": "https://localhost:8080/"
        },
        "id": "3_SCur9v46pS",
        "outputId": "c2f2d976-6647-4378-a3bd-006cbd216bae"
      },
      "execution_count": 72,
      "outputs": [
        {
          "output_type": "execute_result",
          "data": {
            "text/plain": [
              "tensor([1., 1., 1., 1., 1., 1., 1., 1., 1., 1., 1., 1., 1., 1., 1., 1.])"
            ]
          },
          "metadata": {},
          "execution_count": 72
        }
      ]
    },
    {
      "cell_type": "code",
      "source": [
        "b = torch.rand(2,3,4)\n",
        "b"
      ],
      "metadata": {
        "colab": {
          "base_uri": "https://localhost:8080/"
        },
        "id": "Tkj6G2eX5KpR",
        "outputId": "bd320b3d-e774-4682-a8ea-c441fc0aa5b0"
      },
      "execution_count": 73,
      "outputs": [
        {
          "output_type": "execute_result",
          "data": {
            "text/plain": [
              "tensor([[[0.0581, 0.8827, 0.0399, 0.7110],\n",
              "         [0.7565, 0.8324, 0.2100, 0.9287],\n",
              "         [0.4126, 0.8704, 0.2567, 0.3448]],\n",
              "\n",
              "        [[0.4683, 0.4925, 0.2591, 0.4894],\n",
              "         [0.7832, 0.2276, 0.9590, 0.1875],\n",
              "         [0.1282, 0.8953, 0.8636, 0.9533]]])"
            ]
          },
          "metadata": {},
          "execution_count": 73
        }
      ]
    },
    {
      "cell_type": "code",
      "source": [
        "# another way of reshaping\n",
        "# permute\n",
        "b.permute(2,0,1)\n",
        "\n",
        "# ex: if we apply b.permute(2,0,1)\n",
        "#original shape : (2,3,4)\n",
        "# new shape : (4,2,3)\n",
        "# this means we want our 2nd shape (2) in original shape which is (4)\n",
        "# to come to 0th place\n",
        "# similarly we want our 0th shape (0) in original shape which is (2)\n",
        "# to come to 1st place\n",
        "# similarly we want our 1st shape (1) in original shape which is (3)\n",
        "# to come to 2nd place"
      ],
      "metadata": {
        "colab": {
          "base_uri": "https://localhost:8080/"
        },
        "id": "3M7j-hBf5KvR",
        "outputId": "fb8a6295-0af1-4b4b-d164-84c4c265d2a3"
      },
      "execution_count": 74,
      "outputs": [
        {
          "output_type": "execute_result",
          "data": {
            "text/plain": [
              "tensor([[[0.0581, 0.7565, 0.4126],\n",
              "         [0.4683, 0.7832, 0.1282]],\n",
              "\n",
              "        [[0.8827, 0.8324, 0.8704],\n",
              "         [0.4925, 0.2276, 0.8953]],\n",
              "\n",
              "        [[0.0399, 0.2100, 0.2567],\n",
              "         [0.2591, 0.9590, 0.8636]],\n",
              "\n",
              "        [[0.7110, 0.9287, 0.3448],\n",
              "         [0.4894, 0.1875, 0.9533]]])"
            ]
          },
          "metadata": {},
          "execution_count": 74
        }
      ]
    },
    {
      "cell_type": "code",
      "source": [
        "b.permute(2,0,1).shape"
      ],
      "metadata": {
        "colab": {
          "base_uri": "https://localhost:8080/"
        },
        "id": "rLr3Djla5K0f",
        "outputId": "ba1460bf-797b-4da2-812c-007e597e3231"
      },
      "execution_count": 75,
      "outputs": [
        {
          "output_type": "execute_result",
          "data": {
            "text/plain": [
              "torch.Size([4, 2, 3])"
            ]
          },
          "metadata": {},
          "execution_count": 75
        }
      ]
    },
    {
      "cell_type": "code",
      "source": [
        "# so basically we can reshape our tensor in any permutations"
      ],
      "metadata": {
        "id": "iTp_ChZF5K32"
      },
      "execution_count": null,
      "outputs": []
    },
    {
      "cell_type": "code",
      "source": [
        "# unsqueeze - at a given position it adds a new dimension\n",
        "c = torch.rand(226,226,3) # image size\n",
        "c.unsqueeze(0).shape\n",
        "#         position"
      ],
      "metadata": {
        "colab": {
          "base_uri": "https://localhost:8080/"
        },
        "id": "tTZjTcOQ5K7N",
        "outputId": "8e0ec680-0904-477d-f4b3-c02e8bc47b3d"
      },
      "execution_count": 76,
      "outputs": [
        {
          "output_type": "execute_result",
          "data": {
            "text/plain": [
              "torch.Size([1, 226, 226, 3])"
            ]
          },
          "metadata": {},
          "execution_count": 76
        }
      ]
    },
    {
      "cell_type": "code",
      "source": [
        "c.unsqueeze(1).shape"
      ],
      "metadata": {
        "colab": {
          "base_uri": "https://localhost:8080/"
        },
        "id": "xZXbvw0M5K-w",
        "outputId": "6143d44c-c36d-44c9-fba9-3e861ad9551a"
      },
      "execution_count": 77,
      "outputs": [
        {
          "output_type": "execute_result",
          "data": {
            "text/plain": [
              "torch.Size([226, 1, 226, 3])"
            ]
          },
          "metadata": {},
          "execution_count": 77
        }
      ]
    },
    {
      "cell_type": "code",
      "source": [
        "c.unsqueeze(2).shape"
      ],
      "metadata": {
        "colab": {
          "base_uri": "https://localhost:8080/"
        },
        "id": "xaFtPHZm5LBm",
        "outputId": "8ea5aad3-82ea-41f3-fe9a-97da700ec861"
      },
      "execution_count": 78,
      "outputs": [
        {
          "output_type": "execute_result",
          "data": {
            "text/plain": [
              "torch.Size([226, 226, 1, 3])"
            ]
          },
          "metadata": {},
          "execution_count": 78
        }
      ]
    },
    {
      "cell_type": "code",
      "source": [
        "c.unsqueeze(3).shape"
      ],
      "metadata": {
        "colab": {
          "base_uri": "https://localhost:8080/"
        },
        "id": "-HqPp3VO5LEw",
        "outputId": "e756e0e2-8aa3-4a36-fe40-541f25979893"
      },
      "execution_count": 79,
      "outputs": [
        {
          "output_type": "execute_result",
          "data": {
            "text/plain": [
              "torch.Size([226, 226, 3, 1])"
            ]
          },
          "metadata": {},
          "execution_count": 79
        }
      ]
    },
    {
      "cell_type": "code",
      "source": [
        "# use case of unsqeeze?\n",
        "# let's say we have a image classification model, generally our dl model\n",
        "# expects input in batches meaning the model wants (n,226,226,3)\n",
        "# but we have a single image (226,226,3)\n",
        "# so we have to first convert it in a single batch\n",
        "# so to do that we can use unsqueeze operation (very useful in these type of scenarios)"
      ],
      "metadata": {
        "id": "nVom2yGl5LIg"
      },
      "execution_count": null,
      "outputs": []
    },
    {
      "cell_type": "code",
      "source": [
        "# squeeze - does the opposite of unsqeeze\n",
        "\n",
        "d = torch.rand(1,20)\n",
        "d.squeeze(0)\n",
        "#         position"
      ],
      "metadata": {
        "colab": {
          "base_uri": "https://localhost:8080/"
        },
        "id": "CIse1_xp5LMU",
        "outputId": "63f9bb3b-7ef6-4269-9bb5-db94c1974852"
      },
      "execution_count": 80,
      "outputs": [
        {
          "output_type": "execute_result",
          "data": {
            "text/plain": [
              "tensor([0.8115, 0.0442, 0.5497, 0.5919, 0.3348, 0.4257, 0.8327, 0.8687, 0.1672,\n",
              "        0.8733, 0.0806, 0.9406, 0.8785, 0.1722, 0.6016, 0.2005, 0.0493, 0.3613,\n",
              "        0.3060, 0.3639])"
            ]
          },
          "metadata": {},
          "execution_count": 80
        }
      ]
    },
    {
      "cell_type": "code",
      "source": [
        "d.shape"
      ],
      "metadata": {
        "colab": {
          "base_uri": "https://localhost:8080/"
        },
        "id": "TaF2DlWZ8Nfj",
        "outputId": "ec669f11-5188-4daf-c525-552ff7a80186"
      },
      "execution_count": 84,
      "outputs": [
        {
          "output_type": "execute_result",
          "data": {
            "text/plain": [
              "torch.Size([1, 20])"
            ]
          },
          "metadata": {},
          "execution_count": 84
        }
      ]
    },
    {
      "cell_type": "code",
      "source": [
        "d.squeeze(0).shape"
      ],
      "metadata": {
        "colab": {
          "base_uri": "https://localhost:8080/"
        },
        "id": "6hX1bElb5LQ0",
        "outputId": "624cb908-1cdc-4a57-d3d4-e8cbc534b77a"
      },
      "execution_count": 82,
      "outputs": [
        {
          "output_type": "execute_result",
          "data": {
            "text/plain": [
              "torch.Size([20])"
            ]
          },
          "metadata": {},
          "execution_count": 82
        }
      ]
    },
    {
      "cell_type": "markdown",
      "source": [
        "## Numpy and PyTorch"
      ],
      "metadata": {
        "id": "7Bz7DY715LT4"
      }
    },
    {
      "cell_type": "code",
      "source": [
        "import numpy as np"
      ],
      "metadata": {
        "id": "u91F_yue5LWz"
      },
      "execution_count": 90,
      "outputs": []
    },
    {
      "cell_type": "code",
      "source": [
        "# how to move tensors in between numpy and pytorch\n",
        "# if we want to use pytorch in our numpy , scikitlearn, etc workflow\n",
        "# and vice versa\n",
        "# there is a facility where we can convert\n",
        "# pytorch tensors into numpy arrays\n",
        "# and numpy arrays into pytorch tensors"
      ],
      "metadata": {
        "id": "Uk-UtSin5LaI"
      },
      "execution_count": null,
      "outputs": []
    },
    {
      "cell_type": "code",
      "source": [
        "# Converting PyTorch tensor into numpy array"
      ],
      "metadata": {
        "id": "r4G0lyjJ5LeB"
      },
      "execution_count": null,
      "outputs": []
    },
    {
      "cell_type": "code",
      "source": [
        "a = torch.tensor([1,2,3])\n",
        "a"
      ],
      "metadata": {
        "colab": {
          "base_uri": "https://localhost:8080/"
        },
        "id": "SlwRdCQQ8zLe",
        "outputId": "9f161cc8-56b1-46e5-c910-1be09cb47fae"
      },
      "execution_count": 85,
      "outputs": [
        {
          "output_type": "execute_result",
          "data": {
            "text/plain": [
              "tensor([1, 2, 3])"
            ]
          },
          "metadata": {},
          "execution_count": 85
        }
      ]
    },
    {
      "cell_type": "code",
      "source": [
        "b = a.numpy() # converts given tensor into numpy array"
      ],
      "metadata": {
        "id": "xWjFhk588zVA"
      },
      "execution_count": 86,
      "outputs": []
    },
    {
      "cell_type": "code",
      "source": [
        "b"
      ],
      "metadata": {
        "colab": {
          "base_uri": "https://localhost:8080/"
        },
        "id": "oANfcZh38zba",
        "outputId": "f08b89a7-8d61-4cf4-ccbe-7353745644fc"
      },
      "execution_count": 87,
      "outputs": [
        {
          "output_type": "execute_result",
          "data": {
            "text/plain": [
              "array([1, 2, 3])"
            ]
          },
          "metadata": {},
          "execution_count": 87
        }
      ]
    },
    {
      "cell_type": "code",
      "source": [
        "type(b)"
      ],
      "metadata": {
        "colab": {
          "base_uri": "https://localhost:8080/"
        },
        "id": "EScVef3q8zgJ",
        "outputId": "5a93da5d-fbd0-4367-9728-787e0bc7fba0"
      },
      "execution_count": 88,
      "outputs": [
        {
          "output_type": "execute_result",
          "data": {
            "text/plain": [
              "numpy.ndarray"
            ]
          },
          "metadata": {},
          "execution_count": 88
        }
      ]
    },
    {
      "cell_type": "code",
      "source": [
        "# Converting Numpy Array into PyTorch tensor"
      ],
      "metadata": {
        "id": "pN6pQKvb9HbS"
      },
      "execution_count": null,
      "outputs": []
    },
    {
      "cell_type": "code",
      "source": [
        "c = np.array([1,2,3])\n",
        "c"
      ],
      "metadata": {
        "colab": {
          "base_uri": "https://localhost:8080/"
        },
        "id": "7a4L-3Wc9Nzo",
        "outputId": "fe210c26-c3f9-4138-98d7-c98dab46b721"
      },
      "execution_count": 91,
      "outputs": [
        {
          "output_type": "execute_result",
          "data": {
            "text/plain": [
              "array([1, 2, 3])"
            ]
          },
          "metadata": {},
          "execution_count": 91
        }
      ]
    },
    {
      "cell_type": "code",
      "source": [
        "torch.from_numpy(c) # converts numpy array into tensor"
      ],
      "metadata": {
        "colab": {
          "base_uri": "https://localhost:8080/"
        },
        "id": "wqBbyCUG9N4C",
        "outputId": "4185a02e-0c06-4fd7-8995-f0c24e63f774"
      },
      "execution_count": 92,
      "outputs": [
        {
          "output_type": "execute_result",
          "data": {
            "text/plain": [
              "tensor([1, 2, 3])"
            ]
          },
          "metadata": {},
          "execution_count": 92
        }
      ]
    },
    {
      "cell_type": "code",
      "source": [],
      "metadata": {
        "id": "XsKFU1OP9N7X"
      },
      "execution_count": null,
      "outputs": []
    },
    {
      "cell_type": "code",
      "source": [],
      "metadata": {
        "id": "7hWfvt4w9N-b"
      },
      "execution_count": null,
      "outputs": []
    },
    {
      "cell_type": "code",
      "source": [],
      "metadata": {
        "id": "u54Vx7iN9OBM"
      },
      "execution_count": null,
      "outputs": []
    }
  ]
}