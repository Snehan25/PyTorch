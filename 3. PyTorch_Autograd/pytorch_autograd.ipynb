{
  "nbformat": 4,
  "nbformat_minor": 0,
  "metadata": {
    "colab": {
      "provenance": []
    },
    "kernelspec": {
      "name": "python3",
      "display_name": "Python 3"
    },
    "language_info": {
      "name": "python"
    }
  },
  "cells": [
    {
      "cell_type": "code",
      "source": [
        "# write a python program for a given x find y's derivative w.r.t x( the value of dy/dx ) y = x^2"
      ],
      "metadata": {
        "id": "DBKfoXeEg9XO"
      },
      "execution_count": null,
      "outputs": []
    },
    {
      "cell_type": "code",
      "execution_count": null,
      "metadata": {
        "id": "daBw10fIf7Qk"
      },
      "outputs": [],
      "source": [
        "def dy_dx(x):\n",
        "  return 2*x"
      ]
    },
    {
      "cell_type": "code",
      "source": [
        "dy_dx(3)"
      ],
      "metadata": {
        "colab": {
          "base_uri": "https://localhost:8080/"
        },
        "id": "iEyHhHf-gDY9",
        "outputId": "e6f93d3e-2351-4050-fb2a-d2db6a7bfe6d"
      },
      "execution_count": null,
      "outputs": [
        {
          "output_type": "execute_result",
          "data": {
            "text/plain": [
              "6"
            ]
          },
          "metadata": {},
          "execution_count": 3
        }
      ]
    },
    {
      "cell_type": "code",
      "source": [
        "# write a python program for a given x find z 's derivative w.r.t x( the value of dz/dx )  y = x^2 , z = sin(y)"
      ],
      "metadata": {
        "id": "BGIhd8VRe6Tr"
      },
      "execution_count": null,
      "outputs": []
    },
    {
      "cell_type": "code",
      "source": [
        "import math\n",
        "\n",
        "def dz_dx(x):\n",
        "  return 2 * x * math.cos(x**2)"
      ],
      "metadata": {
        "id": "nEEPlSdrgJrD"
      },
      "execution_count": null,
      "outputs": []
    },
    {
      "cell_type": "code",
      "source": [
        "dz_dx(2)"
      ],
      "metadata": {
        "colab": {
          "base_uri": "https://localhost:8080/"
        },
        "id": "JjdbErWBgJu1",
        "outputId": "2cb275f3-5053-4804-83e4-e7c69747d6e7"
      },
      "execution_count": null,
      "outputs": [
        {
          "output_type": "execute_result",
          "data": {
            "text/plain": [
              "-2.6145744834544478"
            ]
          },
          "metadata": {},
          "execution_count": 5
        }
      ]
    },
    {
      "cell_type": "code",
      "source": [
        "# Autograd\n",
        "# Examples:\n",
        "# y = x^2\n",
        "# y = x^2, z= sin(y)\n",
        "# neural network"
      ],
      "metadata": {
        "id": "RZpDoKyHgJx-"
      },
      "execution_count": 1,
      "outputs": []
    },
    {
      "cell_type": "code",
      "source": [
        "# example 1 : y = x^2 find dy/dx for any given x"
      ],
      "metadata": {
        "id": "BmrmNSUHgJ06"
      },
      "execution_count": null,
      "outputs": []
    },
    {
      "cell_type": "code",
      "source": [
        "import torch"
      ],
      "metadata": {
        "id": "n61cWDDLgJ3R"
      },
      "execution_count": 3,
      "outputs": []
    },
    {
      "cell_type": "code",
      "source": [
        "x = torch.tensor(3.0, requires_grad=True)\n",
        "\n",
        "# whenever we set requires_grad as True ( by default its false )\n",
        "# pytorch understands that we want to calc derivative of the tensor\n",
        "# whatever operations we will do on this tensor pytorch will constantly\n",
        "# track the operations and when we ask pytorch will instantly calc derivative of it.\n",
        "\n",
        "# NOTE: whenever we want derivative of a tensor then while making it make sure\n",
        "# to keep requires_grad as True"
      ],
      "metadata": {
        "id": "1s5-veqNgJ5p"
      },
      "execution_count": 3,
      "outputs": []
    },
    {
      "cell_type": "code",
      "source": [
        "# creating relationship b/w y and x\n",
        "\n",
        "y = x**2"
      ],
      "metadata": {
        "id": "m_tml6mpgJ8Q"
      },
      "execution_count": 4,
      "outputs": []
    },
    {
      "cell_type": "code",
      "source": [
        "x"
      ],
      "metadata": {
        "id": "gxYYYCJtgJ-0",
        "colab": {
          "base_uri": "https://localhost:8080/"
        },
        "outputId": "b052c709-7ee3-42ac-bf95-a2f5fb3965d9"
      },
      "execution_count": 5,
      "outputs": [
        {
          "output_type": "execute_result",
          "data": {
            "text/plain": [
              "tensor(3., requires_grad=True)"
            ]
          },
          "metadata": {},
          "execution_count": 5
        }
      ]
    },
    {
      "cell_type": "code",
      "source": [
        "y\n",
        "# since we have done required_grad = True ,\n",
        "# # we see calculated y and also an attribute as PowBackward\n",
        "# # what happens is that when we say pytorch that we want to calc\n",
        "# gradient pytorch internally makes a computation graph\n",
        "# ex : int this scenario computation graph will look like this\n",
        "# x ---- sq ---- y\n",
        "# -------->\n",
        "# when we go in this direction we are calculating y with help of x y = x^2\n",
        "# we call it forward dir.\n",
        "\n",
        "# x ---- sq ---- y\n",
        "#       <--------\n",
        "# and when we go in this direction ( backward direction)\n",
        "# then pytorch will calc this quantity (dy/dx)\n",
        "# and to calc this quantity pytorch should know what mathematical operation\n",
        "# is performed here\n",
        "\n",
        "# that is why when we print y pytorch remembers that back dir there was\n",
        "# power function\n",
        "# hence PowBackward - power backward"
      ],
      "metadata": {
        "id": "0kX9UtjvgKBm",
        "colab": {
          "base_uri": "https://localhost:8080/"
        },
        "outputId": "8c25ecbb-57c0-42ad-b10c-05c5df25c52f"
      },
      "execution_count": 6,
      "outputs": [
        {
          "output_type": "execute_result",
          "data": {
            "text/plain": [
              "tensor(9., grad_fn=<PowBackward0>)"
            ]
          },
          "metadata": {},
          "execution_count": 6
        }
      ]
    },
    {
      "cell_type": "code",
      "source": [
        "# x --- sq --- y\n",
        "# 3     ^2     9\n",
        "# --------->\n",
        "# the forward operation is done\n",
        "      # <--------\n",
        "          #  6\n",
        "# now let's go for backward operation (calc dy/dx)\n",
        "# y = x^2 ---> dy/dx = 2x ---> 2(3) ----> 6\n",
        "# dy/dx = 6"
      ],
      "metadata": {
        "id": "_BHOhXVEgKHa"
      },
      "execution_count": null,
      "outputs": []
    },
    {
      "cell_type": "code",
      "source": [
        "y.backward() # pytorch will calc the derivative"
      ],
      "metadata": {
        "id": "MSVBvY_8gKNe"
      },
      "execution_count": 7,
      "outputs": []
    },
    {
      "cell_type": "code",
      "source": [
        "x.grad\n",
        "\n",
        "# as we can see we are getting 6 (dy/dx = 6)"
      ],
      "metadata": {
        "id": "EBH0_gX7gKQV",
        "colab": {
          "base_uri": "https://localhost:8080/"
        },
        "outputId": "31a54cb0-759c-487d-94f7-29168258ab85"
      },
      "execution_count": 8,
      "outputs": [
        {
          "output_type": "execute_result",
          "data": {
            "text/plain": [
              "tensor(6.)"
            ]
          },
          "metadata": {},
          "execution_count": 8
        }
      ]
    },
    {
      "cell_type": "code",
      "source": [
        "# hence we did not have to create any func to find derivative like before\n",
        "# we just simply defined our x , we put required_grad as true, we calc y in the forward dir\n",
        "# then we just simply did y.backward() - which calculated all the gradients in the backward dir\n",
        "# to see the gradients value we did x.grad"
      ],
      "metadata": {
        "id": "M7O04xdagKTY"
      },
      "execution_count": null,
      "outputs": []
    },
    {
      "cell_type": "code",
      "source": [
        "# Example 2 : nested func\n",
        "# y = x^2 , z = sin(y)\n",
        "# calc dz/dx for any given x\n",
        "\n",
        "# ex: x = 3 , dz/dx = -5.466"
      ],
      "metadata": {
        "id": "1SZb5cDAgKWF"
      },
      "execution_count": null,
      "outputs": []
    },
    {
      "cell_type": "code",
      "source": [
        "import math\n",
        "\n",
        "def dz_dx(x):\n",
        "  return 2 * x * math.cos(x**2)"
      ],
      "metadata": {
        "id": "FFUSwtU_gKY2"
      },
      "execution_count": 9,
      "outputs": []
    },
    {
      "cell_type": "code",
      "source": [
        "dz_dx(3)"
      ],
      "metadata": {
        "id": "nQowuglQgKbo",
        "colab": {
          "base_uri": "https://localhost:8080/"
        },
        "outputId": "d3bccdcb-6cfa-4319-ef6a-a00c38be9d07"
      },
      "execution_count": 11,
      "outputs": [
        {
          "output_type": "execute_result",
          "data": {
            "text/plain": [
              "-5.466781571308061"
            ]
          },
          "metadata": {},
          "execution_count": 11
        }
      ]
    },
    {
      "cell_type": "code",
      "source": [
        "# let's do the same thing with pytorch and compare the result"
      ],
      "metadata": {
        "id": "dejbc9imgKep"
      },
      "execution_count": null,
      "outputs": []
    },
    {
      "cell_type": "code",
      "source": [
        "# define x\n",
        "\n",
        "x = torch.tensor(3.0, requires_grad=True)"
      ],
      "metadata": {
        "id": "C_OEzCdKgKhy"
      },
      "execution_count": 12,
      "outputs": []
    },
    {
      "cell_type": "code",
      "source": [
        "y = x**2"
      ],
      "metadata": {
        "id": "6bwsaoCQgKk5"
      },
      "execution_count": 13,
      "outputs": []
    },
    {
      "cell_type": "code",
      "source": [
        "z = torch.sin(y)"
      ],
      "metadata": {
        "id": "TG2mWKyrgKn-"
      },
      "execution_count": 14,
      "outputs": []
    },
    {
      "cell_type": "code",
      "source": [
        "x"
      ],
      "metadata": {
        "id": "PzycKn0XgKq5",
        "colab": {
          "base_uri": "https://localhost:8080/"
        },
        "outputId": "1015408b-9b4a-4649-86d3-60220dc0e3d7"
      },
      "execution_count": 15,
      "outputs": [
        {
          "output_type": "execute_result",
          "data": {
            "text/plain": [
              "tensor(3., requires_grad=True)"
            ]
          },
          "metadata": {},
          "execution_count": 15
        }
      ]
    },
    {
      "cell_type": "code",
      "source": [
        "y"
      ],
      "metadata": {
        "id": "B8--PByQgKw3",
        "colab": {
          "base_uri": "https://localhost:8080/"
        },
        "outputId": "72ffe4f6-da0a-4857-cee8-831cf2a45a6e"
      },
      "execution_count": 16,
      "outputs": [
        {
          "output_type": "execute_result",
          "data": {
            "text/plain": [
              "tensor(9., grad_fn=<PowBackward0>)"
            ]
          },
          "metadata": {},
          "execution_count": 16
        }
      ]
    },
    {
      "cell_type": "code",
      "source": [
        "z"
      ],
      "metadata": {
        "id": "bQvRnB2ZgK0D",
        "colab": {
          "base_uri": "https://localhost:8080/"
        },
        "outputId": "e015df13-a0bf-446e-c85b-aec4f6e2af18"
      },
      "execution_count": 17,
      "outputs": [
        {
          "output_type": "execute_result",
          "data": {
            "text/plain": [
              "tensor(0.4121, grad_fn=<SinBackward0>)"
            ]
          },
          "metadata": {},
          "execution_count": 17
        }
      ]
    },
    {
      "cell_type": "code",
      "source": [
        "# computation graph will look like this\n",
        "\n",
        "# x ----- sq ------ y ------ sin ----- z\n",
        "# -----------> forward dir\n",
        "# 3       ^2       9         sin(9)    0.4\n",
        "# y = 9 , z = 0.4\n",
        "\n",
        "# x ----- sq ------ y ------ sin ----- z\n",
        "#               <---------- backward dir\n",
        "# dz/dx   dy/dx             dz/dy\n",
        "\n",
        "# we want dz/dx therefore we have to move in backward dir and apply chain rule\n",
        "\n",
        "# to apply dz/dy pytorch should know what math operation has been applied there(sin)\n",
        "# hence, sinBackward\n",
        "\n",
        "# to apply dy/dx pytorch should know what math operation has been applied there(square)\n",
        "# hence, PowBackward\n",
        "\n",
        "# by making computation graph internally, pytorch remembers that the i/p tensor\n",
        "# has been through what what operation so that it can backtrack and apply all derivatives\n",
        "# and then multiply all derivative and apply chain rule"
      ],
      "metadata": {
        "id": "6ojEGNTpgK26"
      },
      "execution_count": null,
      "outputs": []
    },
    {
      "cell_type": "code",
      "source": [
        "z.backward() # calculates derivative"
      ],
      "metadata": {
        "id": "k4oEJsKEgK5x"
      },
      "execution_count": 18,
      "outputs": []
    },
    {
      "cell_type": "code",
      "source": [
        "x.grad # shows the derivative calculated --- dz/dx"
      ],
      "metadata": {
        "id": "bQwWWXRlgK81",
        "colab": {
          "base_uri": "https://localhost:8080/"
        },
        "outputId": "93d3bd74-5148-403d-cc19-6b82392b6273"
      },
      "execution_count": 19,
      "outputs": [
        {
          "output_type": "execute_result",
          "data": {
            "text/plain": [
              "tensor(-5.4668)"
            ]
          },
          "metadata": {},
          "execution_count": 19
        }
      ]
    },
    {
      "cell_type": "code",
      "source": [
        "# what if we try to print y.grad\n",
        "# will it print? no\n",
        "y.grad\n",
        "\n",
        "# explaination below\n",
        "\n"
      ],
      "metadata": {
        "id": "O5rPvu_AgK_x",
        "colab": {
          "base_uri": "https://localhost:8080/"
        },
        "outputId": "a8becf9e-8e7e-4ccd-9f15-2b4a41800271"
      },
      "execution_count": 20,
      "outputs": [
        {
          "output_type": "stream",
          "name": "stderr",
          "text": [
            "<ipython-input-20-08d6395458c6>:3: UserWarning: The .grad attribute of a Tensor that is not a leaf Tensor is being accessed. Its .grad attribute won't be populated during autograd.backward(). If you indeed want the .grad field to be populated for a non-leaf Tensor, use .retain_grad() on the non-leaf Tensor. If you access the non-leaf Tensor by mistake, make sure you access the leaf Tensor instead. See github.com/pytorch/pytorch/pull/30531 for more informations. (Triggered internally at aten/src/ATen/core/TensorBody.h:489.)\n",
            "  y.grad\n"
          ]
        }
      ]
    },
    {
      "cell_type": "code",
      "source": [
        "''' the concept is when our computation graph is built , since its a graph\n",
        "it has nodes, there are three types of nodes - leaf node(input node), root node(last node)(output tensor)\n",
        "intermediate nodes (middle nodes),  and by default around intermediate nodes gradients are not calculated  '''"
      ],
      "metadata": {
        "id": "8TUWaYy0gLCz"
      },
      "execution_count": null,
      "outputs": []
    },
    {
      "cell_type": "code",
      "source": [
        "# Example 3 - Neural Network"
      ],
      "metadata": {
        "id": "BrmlJv8rgLFq"
      },
      "execution_count": null,
      "outputs": []
    },
    {
      "cell_type": "code",
      "source": [
        "# manually calculating derivative ( means applying forward and back propagation)"
      ],
      "metadata": {
        "id": "KDzmyC3JgLIn"
      },
      "execution_count": null,
      "outputs": []
    },
    {
      "cell_type": "markdown",
      "source": [
        "![image.png](data:image/png;base64,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)"
      ],
      "metadata": {
        "id": "POwiGJOLgLLq"
      }
    },
    {
      "cell_type": "code",
      "source": [],
      "metadata": {
        "id": "846-BSd3gLOc"
      },
      "execution_count": null,
      "outputs": []
    },
    {
      "cell_type": "code",
      "source": [
        "import torch\n",
        "\n",
        "# Inputs\n",
        "x = torch.tensor(6.7)  # Input feature (cpga)\n",
        "y = torch.tensor(0.0)  # True label (binary)\n",
        "\n",
        "w = torch.tensor(1.0)  # Weight\n",
        "b = torch.tensor(0.0)  # Bias"
      ],
      "metadata": {
        "id": "CP0lW8U5gLRQ"
      },
      "execution_count": 22,
      "outputs": []
    },
    {
      "cell_type": "code",
      "source": [
        "# Binary Cross-Entropy Loss for scalar\n",
        "def binary_cross_entropy_loss(prediction, target):\n",
        "    epsilon = 1e-8  # To prevent log(0)\n",
        "    prediction = torch.clamp(prediction, epsilon, 1 - epsilon)\n",
        "    return -(target * torch.log(prediction) + (1 - target) * torch.log(1 - prediction))"
      ],
      "metadata": {
        "id": "tZRYF7O5gLUb"
      },
      "execution_count": 12,
      "outputs": []
    },
    {
      "cell_type": "code",
      "source": [
        "# Forward pass (refer notes)\n",
        "z = w * x + b  # Weighted sum (linear part) step 1 (linear transformation)\n",
        "y_pred = torch.sigmoid(z)  # Predicted probability step 2 (activation)\n",
        "\n",
        "# Compute binary cross-entropy loss\n",
        "loss = binary_cross_entropy_loss(y_pred, y)   # step 3 (loss function)"
      ],
      "metadata": {
        "id": "fhIEzqUxgLXi"
      },
      "execution_count": 24,
      "outputs": []
    },
    {
      "cell_type": "code",
      "source": [
        "loss"
      ],
      "metadata": {
        "id": "3TvYfMipgLaT",
        "colab": {
          "base_uri": "https://localhost:8080/"
        },
        "outputId": "873b1fa5-7184-4977-cd51-338dad5f0224"
      },
      "execution_count": 25,
      "outputs": [
        {
          "output_type": "execute_result",
          "data": {
            "text/plain": [
              "tensor(6.7012)"
            ]
          },
          "metadata": {},
          "execution_count": 25
        }
      ]
    },
    {
      "cell_type": "code",
      "source": [
        "# backpropagation (refer notes)"
      ],
      "metadata": {
        "id": "Xs3i0n3WgLdN"
      },
      "execution_count": 27,
      "outputs": []
    },
    {
      "cell_type": "markdown",
      "source": [
        "![image.png](data:image/png;base64,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)"
      ],
      "metadata": {
        "id": "GsFjLLYYMTkT"
      }
    },
    {
      "cell_type": "code",
      "source": [
        "# Derivatives:\n",
        "# 1. dL/d(y_pred): Loss with respect to the prediction (y_pred)\n",
        "dloss_dy_pred = (y_pred - y)/(y_pred*(1-y_pred))\n",
        "\n",
        "# 2. dy_pred/dz: Prediction (y_pred) with respect to z (sigmoid derivative)\n",
        "dy_pred_dz = y_pred * (1 - y_pred)\n",
        "\n",
        "# 3. dz/dw and dz/db: z with respect to w and b\n",
        "dz_dw = x  # dz/dw = x\n",
        "dz_db = 1  # dz/db = 1 (bias contributes directly to z)\n",
        "\n",
        "dL_dw = dloss_dy_pred * dy_pred_dz * dz_dw\n",
        "dL_db = dloss_dy_pred * dy_pred_dz * dz_db"
      ],
      "metadata": {
        "id": "Gimq8udwgLgV"
      },
      "execution_count": 28,
      "outputs": []
    },
    {
      "cell_type": "code",
      "source": [
        "print(f\"Manual Gradient of loss w.r.t weight (dw): {dL_dw}\")\n",
        "print(f\"Manual Gradient of loss w.r.t bias (db): {dL_db}\")"
      ],
      "metadata": {
        "id": "jN63IdNagLi_",
        "colab": {
          "base_uri": "https://localhost:8080/"
        },
        "outputId": "e3e506f2-c839-4dc9-cd6c-98eb78feafcf"
      },
      "execution_count": 29,
      "outputs": [
        {
          "output_type": "stream",
          "name": "stdout",
          "text": [
            "Manual Gradient of loss w.r.t weight (dw): 6.691762447357178\n",
            "Manual Gradient of loss w.r.t bias (db): 0.998770534992218\n"
          ]
        }
      ]
    },
    {
      "cell_type": "code",
      "source": [],
      "metadata": {
        "id": "BMO1ZhfEgLl2"
      },
      "execution_count": null,
      "outputs": []
    },
    {
      "cell_type": "code",
      "source": [
        "# calculating derivative with autograd"
      ],
      "metadata": {
        "id": "lR1jH7szgLok"
      },
      "execution_count": null,
      "outputs": []
    },
    {
      "cell_type": "code",
      "source": [
        "x = torch.tensor(6.7)\n",
        "y = torch.tensor(0.0)\n",
        "\n",
        "# here we have not done required_grad = True as we are not fidning derivative wrt x and y"
      ],
      "metadata": {
        "id": "y_ba0aJcgLrh"
      },
      "execution_count": 4,
      "outputs": []
    },
    {
      "cell_type": "code",
      "source": [
        "w = torch.tensor(1.0, requires_grad = True)\n",
        "b = torch.tensor(0.0, requires_grad = True)"
      ],
      "metadata": {
        "id": "jBmOjTlpgLwu"
      },
      "execution_count": 5,
      "outputs": []
    },
    {
      "cell_type": "code",
      "source": [
        "w"
      ],
      "metadata": {
        "id": "6akFyrpBgLzN",
        "colab": {
          "base_uri": "https://localhost:8080/"
        },
        "outputId": "28df7723-dca9-44a0-e872-461f1e672e74"
      },
      "execution_count": 6,
      "outputs": [
        {
          "output_type": "execute_result",
          "data": {
            "text/plain": [
              "tensor(1., requires_grad=True)"
            ]
          },
          "metadata": {},
          "execution_count": 6
        }
      ]
    },
    {
      "cell_type": "code",
      "source": [
        "b"
      ],
      "metadata": {
        "colab": {
          "base_uri": "https://localhost:8080/"
        },
        "id": "tF0QQRNU8sXW",
        "outputId": "03096e9f-1381-4cd1-a7cb-163b88ebe127"
      },
      "execution_count": 7,
      "outputs": [
        {
          "output_type": "execute_result",
          "data": {
            "text/plain": [
              "tensor(0., requires_grad=True)"
            ]
          },
          "metadata": {},
          "execution_count": 7
        }
      ]
    },
    {
      "cell_type": "code",
      "source": [
        "# forward pass"
      ],
      "metadata": {
        "id": "EaysN37k9Q4F"
      },
      "execution_count": null,
      "outputs": []
    },
    {
      "cell_type": "code",
      "source": [
        "z = w*x + b\n",
        "z"
      ],
      "metadata": {
        "colab": {
          "base_uri": "https://localhost:8080/"
        },
        "id": "hyGtkkzf8sbE",
        "outputId": "cd3db791-4e09-4769-84fa-1f575a42fe59"
      },
      "execution_count": 8,
      "outputs": [
        {
          "output_type": "execute_result",
          "data": {
            "text/plain": [
              "tensor(6.7000, grad_fn=<AddBackward0>)"
            ]
          },
          "metadata": {},
          "execution_count": 8
        }
      ]
    },
    {
      "cell_type": "code",
      "source": [
        "y_pred = torch.sigmoid(z)\n",
        "y_pred"
      ],
      "metadata": {
        "colab": {
          "base_uri": "https://localhost:8080/"
        },
        "id": "OTCWAcpQ8seQ",
        "outputId": "cc8514d2-ea54-4571-ca4b-b0d9246f411f"
      },
      "execution_count": 10,
      "outputs": [
        {
          "output_type": "execute_result",
          "data": {
            "text/plain": [
              "tensor(0.9988, grad_fn=<SigmoidBackward0>)"
            ]
          },
          "metadata": {},
          "execution_count": 10
        }
      ]
    },
    {
      "cell_type": "code",
      "source": [
        "loss = binary_cross_entropy_loss(y_pred, y)\n",
        "loss"
      ],
      "metadata": {
        "colab": {
          "base_uri": "https://localhost:8080/"
        },
        "id": "__Pe1FtJ8shQ",
        "outputId": "58937849-38f7-4829-93c3-b148312a5910"
      },
      "execution_count": 13,
      "outputs": [
        {
          "output_type": "execute_result",
          "data": {
            "text/plain": [
              "tensor(6.7012, grad_fn=<NegBackward0>)"
            ]
          },
          "metadata": {},
          "execution_count": 13
        }
      ]
    },
    {
      "cell_type": "code",
      "source": [
        "# our computation graph will look like this: (forward pass)\n",
        "# b -----\\\n",
        "#         \\\n",
        "# w ------ * ------ + ------ z ------ sigmoid ------ y_pred ------- loss func ------ loss\n",
        "#          |                                                            |\n",
        "#          x                                                            y"
      ],
      "metadata": {
        "id": "A0-Agfe08ska"
      },
      "execution_count": 14,
      "outputs": []
    },
    {
      "cell_type": "code",
      "source": [
        "# backward pass"
      ],
      "metadata": {
        "id": "NE-XBbcf8snI"
      },
      "execution_count": null,
      "outputs": []
    },
    {
      "cell_type": "code",
      "source": [
        "loss.backward()"
      ],
      "metadata": {
        "id": "D8PXbWw48spd"
      },
      "execution_count": 15,
      "outputs": []
    },
    {
      "cell_type": "code",
      "source": [
        "print(w.grad)\n",
        "print(b.grad)"
      ],
      "metadata": {
        "colab": {
          "base_uri": "https://localhost:8080/"
        },
        "id": "rD7CBRHL8sr5",
        "outputId": "cefe472a-f92c-405d-9bf6-50327d703cdd"
      },
      "execution_count": 16,
      "outputs": [
        {
          "output_type": "stream",
          "name": "stdout",
          "text": [
            "tensor(6.6918)\n",
            "tensor(0.9988)\n"
          ]
        }
      ]
    },
    {
      "cell_type": "code",
      "source": [
        "# if we compare the manual code and autograd code, we can see how easy it becomes\n",
        "# we can achieve backward pass with a single line of code only.\n",
        "# and this is the benefit of autograd"
      ],
      "metadata": {
        "id": "o_hv1muY8sws"
      },
      "execution_count": null,
      "outputs": []
    },
    {
      "cell_type": "code",
      "source": [],
      "metadata": {
        "id": "KY9nFwvs8szY"
      },
      "execution_count": null,
      "outputs": []
    },
    {
      "cell_type": "code",
      "source": [
        "# till now all the examples consisted of scalar inputs\n",
        "# now let's see one example of vector input tensor"
      ],
      "metadata": {
        "id": "g-QoVq_e8s1x"
      },
      "execution_count": null,
      "outputs": []
    },
    {
      "cell_type": "code",
      "source": [
        "x = torch.tensor([1.0,2.0,3.0], requires_grad= True)"
      ],
      "metadata": {
        "id": "p4Ose3E98s4N"
      },
      "execution_count": 24,
      "outputs": []
    },
    {
      "cell_type": "code",
      "source": [
        "y = (x**2).mean()\n",
        "y"
      ],
      "metadata": {
        "colab": {
          "base_uri": "https://localhost:8080/"
        },
        "id": "bi-YKbVN8s6w",
        "outputId": "33ffe329-f6a1-4c21-e1cc-f802c90a4d9c"
      },
      "execution_count": 25,
      "outputs": [
        {
          "output_type": "execute_result",
          "data": {
            "text/plain": [
              "tensor(4.6667, grad_fn=<MeanBackward0>)"
            ]
          },
          "metadata": {},
          "execution_count": 25
        }
      ]
    },
    {
      "cell_type": "code",
      "source": [
        "y.backward()"
      ],
      "metadata": {
        "id": "7K5ZvXLE8s_K"
      },
      "execution_count": 26,
      "outputs": []
    },
    {
      "cell_type": "code",
      "source": [
        "x.grad"
      ],
      "metadata": {
        "colab": {
          "base_uri": "https://localhost:8080/"
        },
        "id": "BwTuMaxI8tB2",
        "outputId": "62bf1060-d778-4067-f14a-0a9d360e01e7"
      },
      "execution_count": 28,
      "outputs": [
        {
          "output_type": "execute_result",
          "data": {
            "text/plain": [
              "tensor([0.6667, 1.3333, 2.0000])"
            ]
          },
          "metadata": {},
          "execution_count": 28
        }
      ]
    },
    {
      "cell_type": "code",
      "source": [
        "# here we are getting three gradient , one for each input of x"
      ],
      "metadata": {
        "id": "efUDVj698tEb"
      },
      "execution_count": null,
      "outputs": []
    },
    {
      "cell_type": "markdown",
      "source": [
        "###### concept of getting three gradient\n",
        "![image.png](data:image/png;base64,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)"
      ],
      "metadata": {
        "id": "4UNddesZ8tGx"
      }
    },
    {
      "cell_type": "code",
      "source": [
        "# clearing gradients"
      ],
      "metadata": {
        "id": "mBnbUJ8A8tJj"
      },
      "execution_count": null,
      "outputs": []
    },
    {
      "cell_type": "code",
      "source": [
        "# if we call backward functions multiple times, the gradients start accumulating\n",
        "# example:\n",
        "x = torch.tensor(2.0, requires_grad=True)\n",
        "x"
      ],
      "metadata": {
        "colab": {
          "base_uri": "https://localhost:8080/"
        },
        "id": "KkGnQyYZ8tOb",
        "outputId": "55a59f1a-7aa9-4954-86ea-12d753e4ce06"
      },
      "execution_count": 29,
      "outputs": [
        {
          "output_type": "execute_result",
          "data": {
            "text/plain": [
              "tensor(2., requires_grad=True)"
            ]
          },
          "metadata": {},
          "execution_count": 29
        }
      ]
    },
    {
      "cell_type": "code",
      "source": [
        "# forward pass\n",
        "y = x ** 2\n",
        "y"
      ],
      "metadata": {
        "colab": {
          "base_uri": "https://localhost:8080/"
        },
        "id": "E0KvgbCN8tS6",
        "outputId": "a2bc5ba1-5b65-423d-b8dd-45da04ab74ad"
      },
      "execution_count": 30,
      "outputs": [
        {
          "output_type": "execute_result",
          "data": {
            "text/plain": [
              "tensor(4., grad_fn=<PowBackward0>)"
            ]
          },
          "metadata": {},
          "execution_count": 30
        }
      ]
    },
    {
      "cell_type": "code",
      "source": [
        "y.backward() # backward pass"
      ],
      "metadata": {
        "id": "QH77lWwR8tUU"
      },
      "execution_count": 31,
      "outputs": []
    },
    {
      "cell_type": "code",
      "source": [
        "x.grad"
      ],
      "metadata": {
        "colab": {
          "base_uri": "https://localhost:8080/"
        },
        "id": "zG6hS71P8tXC",
        "outputId": "6d10644b-5419-43c6-e216-7856e8948621"
      },
      "execution_count": 32,
      "outputs": [
        {
          "output_type": "execute_result",
          "data": {
            "text/plain": [
              "tensor(4.)"
            ]
          },
          "metadata": {},
          "execution_count": 32
        }
      ]
    },
    {
      "cell_type": "code",
      "source": [
        "# if we againn run the forward pass and backward pass\n",
        "# then the gradients will accumulate instead of 4 it will show 8"
      ],
      "metadata": {
        "colab": {
          "base_uri": "https://localhost:8080/"
        },
        "id": "FkF5i5Dm8taN",
        "outputId": "28a250fb-0c77-4829-ca9e-799c9e2d1135"
      },
      "execution_count": 33,
      "outputs": [
        {
          "output_type": "execute_result",
          "data": {
            "text/plain": [
              "tensor(0.)"
            ]
          },
          "metadata": {},
          "execution_count": 33
        }
      ]
    },
    {
      "cell_type": "code",
      "source": [
        "y = x ** 2\n",
        "y"
      ],
      "metadata": {
        "colab": {
          "base_uri": "https://localhost:8080/"
        },
        "id": "KssaUt_r8tfn",
        "outputId": "806afa12-c476-4bc8-8f56-fc60d34e5ca4"
      },
      "execution_count": 42,
      "outputs": [
        {
          "output_type": "execute_result",
          "data": {
            "text/plain": [
              "tensor(4., grad_fn=<PowBackward0>)"
            ]
          },
          "metadata": {},
          "execution_count": 42
        }
      ]
    },
    {
      "cell_type": "code",
      "source": [
        "y.backward()"
      ],
      "metadata": {
        "id": "4obTEmurCEn6"
      },
      "execution_count": 43,
      "outputs": []
    },
    {
      "cell_type": "code",
      "source": [
        "x.grad"
      ],
      "metadata": {
        "colab": {
          "base_uri": "https://localhost:8080/"
        },
        "id": "gd-tA0DeCGhd",
        "outputId": "e5aa8fb8-0bac-4a61-f1c1-c7cf1026f16d"
      },
      "execution_count": 44,
      "outputs": [
        {
          "output_type": "execute_result",
          "data": {
            "text/plain": [
              "tensor(8.)"
            ]
          },
          "metadata": {},
          "execution_count": 44
        }
      ]
    },
    {
      "cell_type": "code",
      "source": [
        "# see it shows 8 now ,\n",
        "# what happens is when we run forward and backward pass again\n",
        "# it doesn't automatically gets cleared\n",
        "# if there existed 4 before and another 4 comes\n",
        "# then it will get added up\n",
        "# if we again run it then it will become 12"
      ],
      "metadata": {
        "id": "E8pEwAqPCIWS"
      },
      "execution_count": null,
      "outputs": []
    },
    {
      "cell_type": "code",
      "source": [
        "y = x ** 2\n",
        "y"
      ],
      "metadata": {
        "colab": {
          "base_uri": "https://localhost:8080/"
        },
        "id": "OomyB8jeCu0d",
        "outputId": "dae55bbf-923a-4e6a-91bc-47b2b322290f"
      },
      "execution_count": 45,
      "outputs": [
        {
          "output_type": "execute_result",
          "data": {
            "text/plain": [
              "tensor(4., grad_fn=<PowBackward0>)"
            ]
          },
          "metadata": {},
          "execution_count": 45
        }
      ]
    },
    {
      "cell_type": "code",
      "source": [
        "y.backward()"
      ],
      "metadata": {
        "id": "GadAGomUCu97"
      },
      "execution_count": 46,
      "outputs": []
    },
    {
      "cell_type": "code",
      "source": [
        "x.grad"
      ],
      "metadata": {
        "colab": {
          "base_uri": "https://localhost:8080/"
        },
        "id": "Og4hXne8CvD_",
        "outputId": "36b73f13-fe35-4d3b-8285-b9648125eaeb"
      },
      "execution_count": 47,
      "outputs": [
        {
          "output_type": "execute_result",
          "data": {
            "text/plain": [
              "tensor(12.)"
            ]
          },
          "metadata": {},
          "execution_count": 47
        }
      ]
    },
    {
      "cell_type": "code",
      "source": [
        "# this is the problem of gradients getting accumulated and this is not desirable\n",
        "# imagine we are training a NN, where we are performing backward and forward pass multiple times\n",
        "# then previous pass gradient will get added up with next pass gradient\n",
        "# and we will not be able to get right value of gradient."
      ],
      "metadata": {
        "id": "tKG1YpZ6CvIP"
      },
      "execution_count": null,
      "outputs": []
    },
    {
      "cell_type": "code",
      "source": [
        "# therefore whenever we are running multiple passes on our data\n",
        "# we need to clear our gradient\n",
        "# therefore to clear , we write x.grad.zero_() - we are making the tensor zero by applying inplace (_)(underscore)"
      ],
      "metadata": {
        "id": "VuFl5j94CvOP"
      },
      "execution_count": null,
      "outputs": []
    },
    {
      "cell_type": "code",
      "source": [
        "x.grad.zero_()"
      ],
      "metadata": {
        "colab": {
          "base_uri": "https://localhost:8080/"
        },
        "id": "TY7kJRL5CvUQ",
        "outputId": "b71cde77-6033-46b2-e30e-85af6373c746"
      },
      "execution_count": 48,
      "outputs": [
        {
          "output_type": "execute_result",
          "data": {
            "text/plain": [
              "tensor(0.)"
            ]
          },
          "metadata": {},
          "execution_count": 48
        }
      ]
    },
    {
      "cell_type": "code",
      "source": [
        "#now if we apply forward and backward pass again it won't accumulate\n",
        "# wont show 12 + 4 = 16"
      ],
      "metadata": {
        "id": "D2U0FuwBCvZW"
      },
      "execution_count": null,
      "outputs": []
    },
    {
      "cell_type": "code",
      "source": [
        "y = x ** 2\n",
        "y"
      ],
      "metadata": {
        "colab": {
          "base_uri": "https://localhost:8080/"
        },
        "id": "mX9QGLt3CvgD",
        "outputId": "bf54aab9-357e-4d22-8e72-b1179f5914bc"
      },
      "execution_count": 49,
      "outputs": [
        {
          "output_type": "execute_result",
          "data": {
            "text/plain": [
              "tensor(4., grad_fn=<PowBackward0>)"
            ]
          },
          "metadata": {},
          "execution_count": 49
        }
      ]
    },
    {
      "cell_type": "code",
      "source": [
        "y.backward()"
      ],
      "metadata": {
        "id": "9y2mSKP4Cvks"
      },
      "execution_count": 50,
      "outputs": []
    },
    {
      "cell_type": "code",
      "source": [
        "x.grad\n"
      ],
      "metadata": {
        "colab": {
          "base_uri": "https://localhost:8080/"
        },
        "id": "-8ODKnH8EC05",
        "outputId": "aceaba94-3092-4ae9-c4c3-2f29a5704a9c"
      },
      "execution_count": 51,
      "outputs": [
        {
          "output_type": "execute_result",
          "data": {
            "text/plain": [
              "tensor(4.)"
            ]
          },
          "metadata": {},
          "execution_count": 51
        }
      ]
    },
    {
      "cell_type": "code",
      "source": [
        "x.grad.zero_()"
      ],
      "metadata": {
        "colab": {
          "base_uri": "https://localhost:8080/"
        },
        "id": "G1OsEdjrCvqY",
        "outputId": "7546d045-510b-40fb-cfb1-270f85a51fee"
      },
      "execution_count": 52,
      "outputs": [
        {
          "output_type": "execute_result",
          "data": {
            "text/plain": [
              "tensor(0.)"
            ]
          },
          "metadata": {},
          "execution_count": 52
        }
      ]
    },
    {
      "cell_type": "code",
      "source": [
        "y = x ** 2\n",
        "y"
      ],
      "metadata": {
        "colab": {
          "base_uri": "https://localhost:8080/"
        },
        "id": "v10_jzVKCvv8",
        "outputId": "71bea65e-1dcc-4463-9180-711af8bc43c8"
      },
      "execution_count": 53,
      "outputs": [
        {
          "output_type": "execute_result",
          "data": {
            "text/plain": [
              "tensor(4., grad_fn=<PowBackward0>)"
            ]
          },
          "metadata": {},
          "execution_count": 53
        }
      ]
    },
    {
      "cell_type": "code",
      "source": [
        "y.backward()"
      ],
      "metadata": {
        "id": "9yyHPudOCv0c"
      },
      "execution_count": 54,
      "outputs": []
    },
    {
      "cell_type": "code",
      "source": [
        "x.grad"
      ],
      "metadata": {
        "colab": {
          "base_uri": "https://localhost:8080/"
        },
        "id": "0qrTyad2Cv4M",
        "outputId": "b3bc767b-b2c7-49d1-c0f1-2a55a3f063f8"
      },
      "execution_count": 55,
      "outputs": [
        {
          "output_type": "execute_result",
          "data": {
            "text/plain": [
              "tensor(4.)"
            ]
          },
          "metadata": {},
          "execution_count": 55
        }
      ]
    },
    {
      "cell_type": "code",
      "source": [
        "# see now its not getting accumulated\n",
        "# so before we run another pass we need to clear the gradient\n",
        "# by running x.grad.zero_() first"
      ],
      "metadata": {
        "id": "gU7HOTBsEPCL"
      },
      "execution_count": null,
      "outputs": []
    },
    {
      "cell_type": "code",
      "source": [],
      "metadata": {
        "id": "8h0w6AG2EgAf"
      },
      "execution_count": null,
      "outputs": []
    },
    {
      "cell_type": "code",
      "source": [
        "# how to disable gradient tracking"
      ],
      "metadata": {
        "id": "NSq6kXCBEgFT"
      },
      "execution_count": null,
      "outputs": []
    },
    {
      "cell_type": "code",
      "source": [
        "# there will be some time when we won't be required to calc derivatives\n",
        "# in that case if we want we can disable gradient tracking (flow of calculating derivative)"
      ],
      "metadata": {
        "id": "BQ6NNwhQEgMC"
      },
      "execution_count": null,
      "outputs": []
    },
    {
      "cell_type": "code",
      "source": [
        "# when can these scenario occur when we won't be requiring derivative calc ?\n",
        "# example:\n",
        "# let's say we are training a NN, at that time we need to calc derivatives\n",
        "# and we need backward pass , so at that time we will keep gradient tracking on\n",
        "# but when our NN is trained, during prediction we don't need backward pass\n",
        "# at that time we can disable gradient tracking on our tensors."
      ],
      "metadata": {
        "id": "IkAjadKgEgTr"
      },
      "execution_count": null,
      "outputs": []
    },
    {
      "cell_type": "code",
      "source": [
        "# example:"
      ],
      "metadata": {
        "id": "4MmSGNw0Eglv"
      },
      "execution_count": null,
      "outputs": []
    },
    {
      "cell_type": "code",
      "source": [
        "x = torch.tensor(2.0, requires_grad=True)\n",
        "x"
      ],
      "metadata": {
        "colab": {
          "base_uri": "https://localhost:8080/"
        },
        "id": "8oJevecEEgrr",
        "outputId": "38d04579-b58a-4310-e9d2-c702aaedc293"
      },
      "execution_count": 56,
      "outputs": [
        {
          "output_type": "execute_result",
          "data": {
            "text/plain": [
              "tensor(2., requires_grad=True)"
            ]
          },
          "metadata": {},
          "execution_count": 56
        }
      ]
    },
    {
      "cell_type": "code",
      "source": [
        "y = x ** 2\n",
        "y"
      ],
      "metadata": {
        "colab": {
          "base_uri": "https://localhost:8080/"
        },
        "id": "7WUJAyTOEgwI",
        "outputId": "498d0241-9410-484e-9735-cb8024df5499"
      },
      "execution_count": 57,
      "outputs": [
        {
          "output_type": "execute_result",
          "data": {
            "text/plain": [
              "tensor(4., grad_fn=<PowBackward0>)"
            ]
          },
          "metadata": {},
          "execution_count": 57
        }
      ]
    },
    {
      "cell_type": "code",
      "source": [
        "y.backward()"
      ],
      "metadata": {
        "id": "BZ1fe0jyEg02"
      },
      "execution_count": 58,
      "outputs": []
    },
    {
      "cell_type": "code",
      "source": [
        "x.grad"
      ],
      "metadata": {
        "colab": {
          "base_uri": "https://localhost:8080/"
        },
        "id": "BgcoVhhkEg5M",
        "outputId": "c62ceed5-1236-49ba-e32d-885ce5a23947"
      },
      "execution_count": 59,
      "outputs": [
        {
          "output_type": "execute_result",
          "data": {
            "text/plain": [
              "tensor(4.)"
            ]
          },
          "metadata": {},
          "execution_count": 59
        }
      ]
    },
    {
      "cell_type": "code",
      "source": [
        "# let's say now our training is done, now we only need forward pass\n",
        "# no need of calling backward function\n",
        "# so we can disable gradient tracking - as it occupies memory\n",
        "# and if we are working on a big NN then unecessary mem will be consumed\n",
        "# if gradient tracking is left on."
      ],
      "metadata": {
        "id": "F5aGkgBIEhB2"
      },
      "execution_count": null,
      "outputs": []
    },
    {
      "cell_type": "code",
      "source": [
        "# to disable gradient tracking we have 3 options\n",
        "# option 1 - requires_grad_(False)\n",
        "# option 2 - detach()\n",
        "# option 3 - torch.no_grad()"
      ],
      "metadata": {
        "id": "MAK-2BC6EhDM"
      },
      "execution_count": 60,
      "outputs": []
    },
    {
      "cell_type": "code",
      "source": [
        "# Option 1"
      ],
      "metadata": {
        "id": "KFIYJskXG0if"
      },
      "execution_count": null,
      "outputs": []
    },
    {
      "cell_type": "code",
      "source": [
        "x.requires_grad_(False)"
      ],
      "metadata": {
        "colab": {
          "base_uri": "https://localhost:8080/"
        },
        "id": "36i2K7XpEhEp",
        "outputId": "eab9674b-2821-4d31-ed6e-56966ac9f6dc"
      },
      "execution_count": 61,
      "outputs": [
        {
          "output_type": "execute_result",
          "data": {
            "text/plain": [
              "tensor(2.)"
            ]
          },
          "metadata": {},
          "execution_count": 61
        }
      ]
    },
    {
      "cell_type": "code",
      "source": [
        "x"
      ],
      "metadata": {
        "colab": {
          "base_uri": "https://localhost:8080/"
        },
        "id": "_okQZN9YEhG_",
        "outputId": "59dc145f-8e45-4d1d-9bef-ce4ca4dc16df"
      },
      "execution_count": 64,
      "outputs": [
        {
          "output_type": "execute_result",
          "data": {
            "text/plain": [
              "tensor(2.)"
            ]
          },
          "metadata": {},
          "execution_count": 64
        }
      ]
    },
    {
      "cell_type": "code",
      "source": [
        "y = x ** 2"
      ],
      "metadata": {
        "id": "xFcOHBtREhLi"
      },
      "execution_count": 63,
      "outputs": []
    },
    {
      "cell_type": "code",
      "source": [
        "y"
      ],
      "metadata": {
        "colab": {
          "base_uri": "https://localhost:8080/"
        },
        "id": "L4pJs5knEhOn",
        "outputId": "f3741d44-838e-4db0-c249-b57e7fee8134"
      },
      "execution_count": 65,
      "outputs": [
        {
          "output_type": "execute_result",
          "data": {
            "text/plain": [
              "tensor(4.)"
            ]
          },
          "metadata": {},
          "execution_count": 65
        }
      ]
    },
    {
      "cell_type": "code",
      "source": [
        "y.backward()\n",
        "# backward pass won't work"
      ],
      "metadata": {
        "colab": {
          "base_uri": "https://localhost:8080/",
          "height": 287
        },
        "id": "gGynkuBsEhTX",
        "outputId": "48408dcc-78a7-460b-9d7f-eecad7212339"
      },
      "execution_count": 66,
      "outputs": [
        {
          "output_type": "error",
          "ename": "RuntimeError",
          "evalue": "element 0 of tensors does not require grad and does not have a grad_fn",
          "traceback": [
            "\u001b[0;31m---------------------------------------------------------------------------\u001b[0m",
            "\u001b[0;31mRuntimeError\u001b[0m                              Traceback (most recent call last)",
            "\u001b[0;32m<ipython-input-66-ab75bb780f4c>\u001b[0m in \u001b[0;36m<cell line: 1>\u001b[0;34m()\u001b[0m\n\u001b[0;32m----> 1\u001b[0;31m \u001b[0my\u001b[0m\u001b[0;34m.\u001b[0m\u001b[0mbackward\u001b[0m\u001b[0;34m(\u001b[0m\u001b[0;34m)\u001b[0m\u001b[0;34m\u001b[0m\u001b[0;34m\u001b[0m\u001b[0m\n\u001b[0m",
            "\u001b[0;32m/usr/local/lib/python3.10/dist-packages/torch/_tensor.py\u001b[0m in \u001b[0;36mbackward\u001b[0;34m(self, gradient, retain_graph, create_graph, inputs)\u001b[0m\n\u001b[1;32m    579\u001b[0m                 \u001b[0minputs\u001b[0m\u001b[0;34m=\u001b[0m\u001b[0minputs\u001b[0m\u001b[0;34m,\u001b[0m\u001b[0;34m\u001b[0m\u001b[0;34m\u001b[0m\u001b[0m\n\u001b[1;32m    580\u001b[0m             )\n\u001b[0;32m--> 581\u001b[0;31m         torch.autograd.backward(\n\u001b[0m\u001b[1;32m    582\u001b[0m             \u001b[0mself\u001b[0m\u001b[0;34m,\u001b[0m \u001b[0mgradient\u001b[0m\u001b[0;34m,\u001b[0m \u001b[0mretain_graph\u001b[0m\u001b[0;34m,\u001b[0m \u001b[0mcreate_graph\u001b[0m\u001b[0;34m,\u001b[0m \u001b[0minputs\u001b[0m\u001b[0;34m=\u001b[0m\u001b[0minputs\u001b[0m\u001b[0;34m\u001b[0m\u001b[0;34m\u001b[0m\u001b[0m\n\u001b[1;32m    583\u001b[0m         )\n",
            "\u001b[0;32m/usr/local/lib/python3.10/dist-packages/torch/autograd/__init__.py\u001b[0m in \u001b[0;36mbackward\u001b[0;34m(tensors, grad_tensors, retain_graph, create_graph, grad_variables, inputs)\u001b[0m\n\u001b[1;32m    345\u001b[0m     \u001b[0;31m# some Python versions print out the first line of a multi-line function\u001b[0m\u001b[0;34m\u001b[0m\u001b[0;34m\u001b[0m\u001b[0m\n\u001b[1;32m    346\u001b[0m     \u001b[0;31m# calls in the traceback and some print out the last line\u001b[0m\u001b[0;34m\u001b[0m\u001b[0;34m\u001b[0m\u001b[0m\n\u001b[0;32m--> 347\u001b[0;31m     _engine_run_backward(\n\u001b[0m\u001b[1;32m    348\u001b[0m         \u001b[0mtensors\u001b[0m\u001b[0;34m,\u001b[0m\u001b[0;34m\u001b[0m\u001b[0;34m\u001b[0m\u001b[0m\n\u001b[1;32m    349\u001b[0m         \u001b[0mgrad_tensors_\u001b[0m\u001b[0;34m,\u001b[0m\u001b[0;34m\u001b[0m\u001b[0;34m\u001b[0m\u001b[0m\n",
            "\u001b[0;32m/usr/local/lib/python3.10/dist-packages/torch/autograd/graph.py\u001b[0m in \u001b[0;36m_engine_run_backward\u001b[0;34m(t_outputs, *args, **kwargs)\u001b[0m\n\u001b[1;32m    823\u001b[0m         \u001b[0munregister_hooks\u001b[0m \u001b[0;34m=\u001b[0m \u001b[0m_register_logging_hooks_on_whole_graph\u001b[0m\u001b[0;34m(\u001b[0m\u001b[0mt_outputs\u001b[0m\u001b[0;34m)\u001b[0m\u001b[0;34m\u001b[0m\u001b[0;34m\u001b[0m\u001b[0m\n\u001b[1;32m    824\u001b[0m     \u001b[0;32mtry\u001b[0m\u001b[0;34m:\u001b[0m\u001b[0;34m\u001b[0m\u001b[0;34m\u001b[0m\u001b[0m\n\u001b[0;32m--> 825\u001b[0;31m         return Variable._execution_engine.run_backward(  # Calls into the C++ engine to run the backward pass\n\u001b[0m\u001b[1;32m    826\u001b[0m             \u001b[0mt_outputs\u001b[0m\u001b[0;34m,\u001b[0m \u001b[0;34m*\u001b[0m\u001b[0margs\u001b[0m\u001b[0;34m,\u001b[0m \u001b[0;34m**\u001b[0m\u001b[0mkwargs\u001b[0m\u001b[0;34m\u001b[0m\u001b[0;34m\u001b[0m\u001b[0m\n\u001b[1;32m    827\u001b[0m         )  # Calls into the C++ engine to run the backward pass\n",
            "\u001b[0;31mRuntimeError\u001b[0m: element 0 of tensors does not require grad and does not have a grad_fn"
          ]
        }
      ]
    },
    {
      "cell_type": "code",
      "source": [
        "# Option 2 - detach - here we make a completely new tensor"
      ],
      "metadata": {
        "id": "VNHKMfSNGvjK"
      },
      "execution_count": null,
      "outputs": []
    },
    {
      "cell_type": "code",
      "source": [
        "x = torch.tensor(2.0, requires_grad=True)\n",
        "x"
      ],
      "metadata": {
        "colab": {
          "base_uri": "https://localhost:8080/"
        },
        "id": "BEIHN3-RG9Q3",
        "outputId": "73ee538b-6529-4720-b9bd-6f8fdc4502c9"
      },
      "execution_count": 67,
      "outputs": [
        {
          "output_type": "execute_result",
          "data": {
            "text/plain": [
              "tensor(2., requires_grad=True)"
            ]
          },
          "metadata": {},
          "execution_count": 67
        }
      ]
    },
    {
      "cell_type": "code",
      "source": [
        "z = x.detach()\n",
        "z\n",
        "# z will have the exact value present in x\n",
        "# only diff is it will be completely separated from computational graph\n",
        "# and gradient tracking is disabled"
      ],
      "metadata": {
        "colab": {
          "base_uri": "https://localhost:8080/"
        },
        "id": "0VjC5PT3G9Ur",
        "outputId": "0503ba2e-e48c-4643-e86d-644ddc1e99c5"
      },
      "execution_count": 68,
      "outputs": [
        {
          "output_type": "execute_result",
          "data": {
            "text/plain": [
              "tensor(2.)"
            ]
          },
          "metadata": {},
          "execution_count": 68
        }
      ]
    },
    {
      "cell_type": "code",
      "source": [
        "y = x ** 2"
      ],
      "metadata": {
        "id": "pCDrs11JG9YD"
      },
      "execution_count": 69,
      "outputs": []
    },
    {
      "cell_type": "code",
      "source": [
        "y"
      ],
      "metadata": {
        "colab": {
          "base_uri": "https://localhost:8080/"
        },
        "id": "tmflqCmgG9bO",
        "outputId": "65e0da6a-0d82-42ef-886c-796222e0b757"
      },
      "execution_count": 70,
      "outputs": [
        {
          "output_type": "execute_result",
          "data": {
            "text/plain": [
              "tensor(4., grad_fn=<PowBackward0>)"
            ]
          },
          "metadata": {},
          "execution_count": 70
        }
      ]
    },
    {
      "cell_type": "code",
      "source": [
        "y1 = z ** 2\n",
        "y1"
      ],
      "metadata": {
        "colab": {
          "base_uri": "https://localhost:8080/"
        },
        "id": "8XJQiThQG9d9",
        "outputId": "ecfd086c-0187-4763-be49-b4026502fda8"
      },
      "execution_count": 71,
      "outputs": [
        {
          "output_type": "execute_result",
          "data": {
            "text/plain": [
              "tensor(4.)"
            ]
          },
          "metadata": {},
          "execution_count": 71
        }
      ]
    },
    {
      "cell_type": "code",
      "source": [
        "y.backward()"
      ],
      "metadata": {
        "id": "UxUlp3XCG9gZ"
      },
      "execution_count": 72,
      "outputs": []
    },
    {
      "cell_type": "code",
      "source": [
        "y1.backward()\n",
        "# won't work"
      ],
      "metadata": {
        "colab": {
          "base_uri": "https://localhost:8080/",
          "height": 287
        },
        "id": "CpgqO1hfG9i9",
        "outputId": "c2ca8d5f-428c-41f6-cea7-a616af90c2c1"
      },
      "execution_count": 73,
      "outputs": [
        {
          "output_type": "error",
          "ename": "RuntimeError",
          "evalue": "element 0 of tensors does not require grad and does not have a grad_fn",
          "traceback": [
            "\u001b[0;31m---------------------------------------------------------------------------\u001b[0m",
            "\u001b[0;31mRuntimeError\u001b[0m                              Traceback (most recent call last)",
            "\u001b[0;32m<ipython-input-73-78ed6cb36aaa>\u001b[0m in \u001b[0;36m<cell line: 1>\u001b[0;34m()\u001b[0m\n\u001b[0;32m----> 1\u001b[0;31m \u001b[0my1\u001b[0m\u001b[0;34m.\u001b[0m\u001b[0mbackward\u001b[0m\u001b[0;34m(\u001b[0m\u001b[0;34m)\u001b[0m\u001b[0;34m\u001b[0m\u001b[0;34m\u001b[0m\u001b[0m\n\u001b[0m",
            "\u001b[0;32m/usr/local/lib/python3.10/dist-packages/torch/_tensor.py\u001b[0m in \u001b[0;36mbackward\u001b[0;34m(self, gradient, retain_graph, create_graph, inputs)\u001b[0m\n\u001b[1;32m    579\u001b[0m                 \u001b[0minputs\u001b[0m\u001b[0;34m=\u001b[0m\u001b[0minputs\u001b[0m\u001b[0;34m,\u001b[0m\u001b[0;34m\u001b[0m\u001b[0;34m\u001b[0m\u001b[0m\n\u001b[1;32m    580\u001b[0m             )\n\u001b[0;32m--> 581\u001b[0;31m         torch.autograd.backward(\n\u001b[0m\u001b[1;32m    582\u001b[0m             \u001b[0mself\u001b[0m\u001b[0;34m,\u001b[0m \u001b[0mgradient\u001b[0m\u001b[0;34m,\u001b[0m \u001b[0mretain_graph\u001b[0m\u001b[0;34m,\u001b[0m \u001b[0mcreate_graph\u001b[0m\u001b[0;34m,\u001b[0m \u001b[0minputs\u001b[0m\u001b[0;34m=\u001b[0m\u001b[0minputs\u001b[0m\u001b[0;34m\u001b[0m\u001b[0;34m\u001b[0m\u001b[0m\n\u001b[1;32m    583\u001b[0m         )\n",
            "\u001b[0;32m/usr/local/lib/python3.10/dist-packages/torch/autograd/__init__.py\u001b[0m in \u001b[0;36mbackward\u001b[0;34m(tensors, grad_tensors, retain_graph, create_graph, grad_variables, inputs)\u001b[0m\n\u001b[1;32m    345\u001b[0m     \u001b[0;31m# some Python versions print out the first line of a multi-line function\u001b[0m\u001b[0;34m\u001b[0m\u001b[0;34m\u001b[0m\u001b[0m\n\u001b[1;32m    346\u001b[0m     \u001b[0;31m# calls in the traceback and some print out the last line\u001b[0m\u001b[0;34m\u001b[0m\u001b[0;34m\u001b[0m\u001b[0m\n\u001b[0;32m--> 347\u001b[0;31m     _engine_run_backward(\n\u001b[0m\u001b[1;32m    348\u001b[0m         \u001b[0mtensors\u001b[0m\u001b[0;34m,\u001b[0m\u001b[0;34m\u001b[0m\u001b[0;34m\u001b[0m\u001b[0m\n\u001b[1;32m    349\u001b[0m         \u001b[0mgrad_tensors_\u001b[0m\u001b[0;34m,\u001b[0m\u001b[0;34m\u001b[0m\u001b[0;34m\u001b[0m\u001b[0m\n",
            "\u001b[0;32m/usr/local/lib/python3.10/dist-packages/torch/autograd/graph.py\u001b[0m in \u001b[0;36m_engine_run_backward\u001b[0;34m(t_outputs, *args, **kwargs)\u001b[0m\n\u001b[1;32m    823\u001b[0m         \u001b[0munregister_hooks\u001b[0m \u001b[0;34m=\u001b[0m \u001b[0m_register_logging_hooks_on_whole_graph\u001b[0m\u001b[0;34m(\u001b[0m\u001b[0mt_outputs\u001b[0m\u001b[0;34m)\u001b[0m\u001b[0;34m\u001b[0m\u001b[0;34m\u001b[0m\u001b[0m\n\u001b[1;32m    824\u001b[0m     \u001b[0;32mtry\u001b[0m\u001b[0;34m:\u001b[0m\u001b[0;34m\u001b[0m\u001b[0;34m\u001b[0m\u001b[0m\n\u001b[0;32m--> 825\u001b[0;31m         return Variable._execution_engine.run_backward(  # Calls into the C++ engine to run the backward pass\n\u001b[0m\u001b[1;32m    826\u001b[0m             \u001b[0mt_outputs\u001b[0m\u001b[0;34m,\u001b[0m \u001b[0;34m*\u001b[0m\u001b[0margs\u001b[0m\u001b[0;34m,\u001b[0m \u001b[0;34m**\u001b[0m\u001b[0mkwargs\u001b[0m\u001b[0;34m\u001b[0m\u001b[0;34m\u001b[0m\u001b[0m\n\u001b[1;32m    827\u001b[0m         )  # Calls into the C++ engine to run the backward pass\n",
            "\u001b[0;31mRuntimeError\u001b[0m: element 0 of tensors does not require grad and does not have a grad_fn"
          ]
        }
      ]
    },
    {
      "cell_type": "code",
      "source": [
        "# Option 3"
      ],
      "metadata": {
        "id": "t3FOc-wKG9nl"
      },
      "execution_count": null,
      "outputs": []
    },
    {
      "cell_type": "code",
      "source": [
        "x = torch.tensor(2.0, requires_grad=True)\n",
        "x"
      ],
      "metadata": {
        "colab": {
          "base_uri": "https://localhost:8080/"
        },
        "id": "H1f7ARl6G9pl",
        "outputId": "a8b22e9f-a17d-4fd6-f73a-707a02e96e3e"
      },
      "execution_count": 74,
      "outputs": [
        {
          "output_type": "execute_result",
          "data": {
            "text/plain": [
              "tensor(2., requires_grad=True)"
            ]
          },
          "metadata": {},
          "execution_count": 74
        }
      ]
    },
    {
      "cell_type": "code",
      "source": [
        "with torch.no_grad():\n",
        "  y = x ** 2"
      ],
      "metadata": {
        "id": "DI4EMpFgG9rF"
      },
      "execution_count": 75,
      "outputs": []
    },
    {
      "cell_type": "code",
      "source": [
        "y"
      ],
      "metadata": {
        "colab": {
          "base_uri": "https://localhost:8080/"
        },
        "id": "hJ0B_9QUG9s8",
        "outputId": "6964699a-40ff-4eb5-be90-f6318f1434bc"
      },
      "execution_count": 76,
      "outputs": [
        {
          "output_type": "execute_result",
          "data": {
            "text/plain": [
              "tensor(4.)"
            ]
          },
          "metadata": {},
          "execution_count": 76
        }
      ]
    },
    {
      "cell_type": "code",
      "source": [
        "y.backward()\n",
        "# wont't work as gradient tracking is disabled"
      ],
      "metadata": {
        "colab": {
          "base_uri": "https://localhost:8080/",
          "height": 287
        },
        "id": "7xvU6OshG9vA",
        "outputId": "1adb3848-8b1e-450f-c657-218ca09a7e4d"
      },
      "execution_count": 78,
      "outputs": [
        {
          "output_type": "error",
          "ename": "RuntimeError",
          "evalue": "element 0 of tensors does not require grad and does not have a grad_fn",
          "traceback": [
            "\u001b[0;31m---------------------------------------------------------------------------\u001b[0m",
            "\u001b[0;31mRuntimeError\u001b[0m                              Traceback (most recent call last)",
            "\u001b[0;32m<ipython-input-78-ab75bb780f4c>\u001b[0m in \u001b[0;36m<cell line: 1>\u001b[0;34m()\u001b[0m\n\u001b[0;32m----> 1\u001b[0;31m \u001b[0my\u001b[0m\u001b[0;34m.\u001b[0m\u001b[0mbackward\u001b[0m\u001b[0;34m(\u001b[0m\u001b[0;34m)\u001b[0m\u001b[0;34m\u001b[0m\u001b[0;34m\u001b[0m\u001b[0m\n\u001b[0m",
            "\u001b[0;32m/usr/local/lib/python3.10/dist-packages/torch/_tensor.py\u001b[0m in \u001b[0;36mbackward\u001b[0;34m(self, gradient, retain_graph, create_graph, inputs)\u001b[0m\n\u001b[1;32m    579\u001b[0m                 \u001b[0minputs\u001b[0m\u001b[0;34m=\u001b[0m\u001b[0minputs\u001b[0m\u001b[0;34m,\u001b[0m\u001b[0;34m\u001b[0m\u001b[0;34m\u001b[0m\u001b[0m\n\u001b[1;32m    580\u001b[0m             )\n\u001b[0;32m--> 581\u001b[0;31m         torch.autograd.backward(\n\u001b[0m\u001b[1;32m    582\u001b[0m             \u001b[0mself\u001b[0m\u001b[0;34m,\u001b[0m \u001b[0mgradient\u001b[0m\u001b[0;34m,\u001b[0m \u001b[0mretain_graph\u001b[0m\u001b[0;34m,\u001b[0m \u001b[0mcreate_graph\u001b[0m\u001b[0;34m,\u001b[0m \u001b[0minputs\u001b[0m\u001b[0;34m=\u001b[0m\u001b[0minputs\u001b[0m\u001b[0;34m\u001b[0m\u001b[0;34m\u001b[0m\u001b[0m\n\u001b[1;32m    583\u001b[0m         )\n",
            "\u001b[0;32m/usr/local/lib/python3.10/dist-packages/torch/autograd/__init__.py\u001b[0m in \u001b[0;36mbackward\u001b[0;34m(tensors, grad_tensors, retain_graph, create_graph, grad_variables, inputs)\u001b[0m\n\u001b[1;32m    345\u001b[0m     \u001b[0;31m# some Python versions print out the first line of a multi-line function\u001b[0m\u001b[0;34m\u001b[0m\u001b[0;34m\u001b[0m\u001b[0m\n\u001b[1;32m    346\u001b[0m     \u001b[0;31m# calls in the traceback and some print out the last line\u001b[0m\u001b[0;34m\u001b[0m\u001b[0;34m\u001b[0m\u001b[0m\n\u001b[0;32m--> 347\u001b[0;31m     _engine_run_backward(\n\u001b[0m\u001b[1;32m    348\u001b[0m         \u001b[0mtensors\u001b[0m\u001b[0;34m,\u001b[0m\u001b[0;34m\u001b[0m\u001b[0;34m\u001b[0m\u001b[0m\n\u001b[1;32m    349\u001b[0m         \u001b[0mgrad_tensors_\u001b[0m\u001b[0;34m,\u001b[0m\u001b[0;34m\u001b[0m\u001b[0;34m\u001b[0m\u001b[0m\n",
            "\u001b[0;32m/usr/local/lib/python3.10/dist-packages/torch/autograd/graph.py\u001b[0m in \u001b[0;36m_engine_run_backward\u001b[0;34m(t_outputs, *args, **kwargs)\u001b[0m\n\u001b[1;32m    823\u001b[0m         \u001b[0munregister_hooks\u001b[0m \u001b[0;34m=\u001b[0m \u001b[0m_register_logging_hooks_on_whole_graph\u001b[0m\u001b[0;34m(\u001b[0m\u001b[0mt_outputs\u001b[0m\u001b[0;34m)\u001b[0m\u001b[0;34m\u001b[0m\u001b[0;34m\u001b[0m\u001b[0m\n\u001b[1;32m    824\u001b[0m     \u001b[0;32mtry\u001b[0m\u001b[0;34m:\u001b[0m\u001b[0;34m\u001b[0m\u001b[0;34m\u001b[0m\u001b[0m\n\u001b[0;32m--> 825\u001b[0;31m         return Variable._execution_engine.run_backward(  # Calls into the C++ engine to run the backward pass\n\u001b[0m\u001b[1;32m    826\u001b[0m             \u001b[0mt_outputs\u001b[0m\u001b[0;34m,\u001b[0m \u001b[0;34m*\u001b[0m\u001b[0margs\u001b[0m\u001b[0;34m,\u001b[0m \u001b[0;34m**\u001b[0m\u001b[0mkwargs\u001b[0m\u001b[0;34m\u001b[0m\u001b[0;34m\u001b[0m\u001b[0m\n\u001b[1;32m    827\u001b[0m         )  # Calls into the C++ engine to run the backward pass\n",
            "\u001b[0;31mRuntimeError\u001b[0m: element 0 of tensors does not require grad and does not have a grad_fn"
          ]
        }
      ]
    },
    {
      "cell_type": "code",
      "source": [
        "# if we remove the with statement then the gradient tracking is enabled again"
      ],
      "metadata": {
        "id": "LTV3e755G9xM"
      },
      "execution_count": null,
      "outputs": []
    },
    {
      "cell_type": "code",
      "source": [
        "x = torch.tensor(2.0, requires_grad=True)\n",
        "x"
      ],
      "metadata": {
        "colab": {
          "base_uri": "https://localhost:8080/"
        },
        "id": "vBEiOZAxIG8J",
        "outputId": "cf791ec6-db4b-45f6-f8e8-5bf727719e85"
      },
      "execution_count": 80,
      "outputs": [
        {
          "output_type": "execute_result",
          "data": {
            "text/plain": [
              "tensor(2., requires_grad=True)"
            ]
          },
          "metadata": {},
          "execution_count": 80
        }
      ]
    },
    {
      "cell_type": "code",
      "source": [
        "y = x ** 2\n",
        "y"
      ],
      "metadata": {
        "colab": {
          "base_uri": "https://localhost:8080/"
        },
        "id": "cJTue_JKIHAW",
        "outputId": "fbbf2382-c507-492c-ba84-780ce8bbadd6"
      },
      "execution_count": 81,
      "outputs": [
        {
          "output_type": "execute_result",
          "data": {
            "text/plain": [
              "tensor(4., grad_fn=<PowBackward0>)"
            ]
          },
          "metadata": {},
          "execution_count": 81
        }
      ]
    },
    {
      "cell_type": "code",
      "source": [
        "y.backward()"
      ],
      "metadata": {
        "id": "Syr0M73oIHD1"
      },
      "execution_count": 82,
      "outputs": []
    },
    {
      "cell_type": "code",
      "source": [
        "x.grad"
      ],
      "metadata": {
        "colab": {
          "base_uri": "https://localhost:8080/"
        },
        "id": "x4i_W1fGINiQ",
        "outputId": "acbdbbe7-5e24-4932-d4b2-10b755460db1"
      },
      "execution_count": 84,
      "outputs": [
        {
          "output_type": "execute_result",
          "data": {
            "text/plain": [
              "tensor(4.)"
            ]
          },
          "metadata": {},
          "execution_count": 84
        }
      ]
    },
    {
      "cell_type": "code",
      "source": [],
      "metadata": {
        "id": "fY3PDyG3ISUd"
      },
      "execution_count": null,
      "outputs": []
    }
  ]
}